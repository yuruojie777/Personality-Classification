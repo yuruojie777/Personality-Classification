{
 "cells": [
  {
   "cell_type": "markdown",
   "metadata": {
    "id": "MGHoy6KpQDfZ"
   },
   "source": [
    "# Personality classification according to sentences"
   ]
  },
  {
   "cell_type": "markdown",
   "metadata": {
    "id": "A7v4GVxo4Dom"
   },
   "source": [
    "# 1 - Data Preprocessing"
   ]
  },
  {
   "cell_type": "markdown",
   "metadata": {
    "id": "HftyG77k47Y3",
    "tags": []
   },
   "source": [
    "## 1.0. Data Collection"
   ]
  },
  {
   "cell_type": "code",
   "execution_count": 1,
   "metadata": {
    "colab": {
     "base_uri": "https://localhost:8080/"
    },
    "id": "U7C4snIcNl22",
    "outputId": "7b378067-7f48-474c-b408-c2e87d18a46a"
   },
   "outputs": [
    {
     "name": "stdout",
     "output_type": "stream",
     "text": [
      "------------------------------------\n",
      "Size of training dataset: 7808\n",
      "Size of testing dataset: 867\n",
      "------------------------------------\n",
      "------------------------------------\n",
      "Sample Data\n",
      "LABEL: F / SENTENCE: 'Half of it is going straight to charity, another quarter going straight to scientific research, an eighth to the parkour community, a sixteenth to towards spreading information about health and...|||Find a path or suffer more.|||http://personalitycafe.com/enneagram-personality-theory-forum/85323-enneagram-type-mbti-type-compared-statistics.html yep.|||I kind of anchor on Fi and Ne makes having Ni really fun. INFP for me as they tire me out less and our views tend to align more.|||The two ESTPs I have gotten the chance to know seem to experience much more than other people who have been on the planet for the same amount of time and are quite the renaissance (wo)men.  Is this...|||I don't really have a best friend ISTP(passion-amateur group co-founder), INTJ(intellectual and various small hobbies talk), ESTP(Bro-in-law, talk about everything kind of like my INTJ friend),...|||Everyone looses their gift if they don't even consider a different perspective.|||Kansas - ISTJ|||That or if they are normally comfortable with me, such as a friend or close acquaintance, they feel the need to start talking. It's almost a trap, I've noticed for most people feel the need to expose...|||To me, your answers screamed introverted feeling. Answers 2-5, 10, 11, 14, 16, and 17 your last statement were particularly Fi-like. I'm guessing you are an intuitive and possibly and introvert...|||Could you explain your reasoning for these? I saw Mako as an F, Lin as an ES, and have Kya as an F. Never had an idea for Amon's type.|||This applies to many of these threads.|||With an INFP for over 2 years now.|||After watching tonight's episode I'm sure that Unalaq is an ENXJ. I'm not sure if it's Fe or Te at this point but the way he goes about doing and planning things seem like a Je-dom. I'm putting him...|||Parkour is my passion(but I consider it closer to a martial art than a sport). I also enjoy some running and climbing.|||I have many characters but I gravitate towards sneaky archer, Breton, and conjuration. I love doing role plays and think it's one of, if not the best way to play the game.|||ESFP seems right for Ikki. We may need Jinora to have more interactions for us to tell. Any guesses about Pema, Tenzin's wife? She said herself that she used to be very shy so I'd put I just from...|||If you don't mind, please tell me more by what you meant by this bolded part or what happened.|||I think it's fit to revive this thread seeing as the second season of Korra has started and the second episode of the season is coming up tomorrow. I'd just say beware of spoilers in new posts if you...|||I was thinking more along these lines: 83385|||Yes, a few times in friendships and other things but it was usually spurred on by the idea of not having a second chance. I've been trying to make the first move more in life as I've realized it just...|||Sorry if my wording was/is confusing or vague. Let me try to explain it better.  As for the first statement: I see the world for all it's interconnections. If you wish, visualized everything having...|||~I don't experience it as simply perceiving or creating, for me as I perceive interconnected relationships are formed and realized.   ~I don't think that I rationalize with my dominate function but...|||I think it's amusing that, in the leading position I share with an ISTP friend of mine, we both start to embrace our shadows. I Think that's been my growing point lately, embracing my shadow. We're...|||I would suggest introspection and relying on your sense of self over tests and I highly suggest looking into the cognitive functions. ISTJ is the complete opposite of INFJ.|||I definitely agree with others on the US- It's pretty good for an INFJ if you find your niche.  I say the Midwest is generally SJ with women expected to be F and men to be T. It's nice but annoying....|||Please explain|||I think my own eye movements have almost been changed because of where I was usually placed when talking to someone in normal conversations. See, when I was young I ended up getting permanent spot in...|||Judgmental, critical, somewhat narcissistic, stubborn, possessive, Fe-ishly manipulative, and I have ego issues. Take that with a grain of salt.|||Yes, very much so. I love Spanish so far.|||I have a huge folder of these types of images.|||Aquarian It was just my guess, it doesn't need that much merit. Personally, I think Se is the hardest function to describe because it is so in the moment.|||Sorry, double post because of connectivity weirdness.|||I don't know if this has been posted before or if a thread about curses would be the best place but it'll do just fine. The important part is post #79, the giant wall of text. I think most of it was...|||If anything, imo, Ni would be how objects are interconnected. If I were to follow closely to your model: Introverted Intuition: Understanding how objects are connected Extraverted Intuition:...|||Sometimes you just don't see them :ninja: Seriously, I thought I was alone in a small town but I was surprised after training for a couple months.  You can easily learn and train by yourself, you...|||82063 Stuff by Andy Day, not only do I like it because it is the stuff of my passion but that new perspective of our surroundings that it brings. This is a great example of that. All those people...|||Sorry for the quality, my relative only gave me a physical copy, it's a picture of a picture. This is my INFP girlfriend of two years and me.|||If I am with my SO I almost need physical contact in some way.|||I pretty much have a guru dream that involves my SP wannabe passion. Around people I am close to I totally put on the gypsy king face, people are just so interesting. Hahaha can't stop laughing at ...|||I agree this this post very much, I just can't shake that vibe. To me it feels like you are an INTP who strongly identifies with INFJs. I think if you want a sound answer form yourself and others we...|||I do pretty well in emergencies, I do very well compared to normal conditions in my opinion. I feel like I become the ideal version of myself, for the most part. It's hard to describe but it's like...|||I have a very close INTJ friend. The Te Fe difference is acknowledged very well and I'd say that both of our tertiary functions are well developed which helps a ton. He does not show it often but he...|||Being alone and/or doing something physical that I can naturally and reactively do without thinking or little thought.|||Pretty much this|||If I wear shoes or socks to bed and my feet are not on my bed I will wake up as if I was falling. 2/3 of the time this happens. Any other dreams that I remember(I don't remember most of my dreams...|||This one still gets me.  What I meant to say was Pass the salt but what I really said was You b****, you ruined my life|||I'm sorry, but I find them so funny because I use them for good reason. They make people uncomfortable at first but then, slowly, make people more comfortable with the idea that people are different...|||XSFJ Mother, ISTJ father, and an XNFJ sister. Yep.|||I love dark jokes, especially racists/stereotypical jokes.'\n",
      "------------------------------------\n"
     ]
    }
   ],
   "source": [
    "# Code to download file into Colaboratory:\n",
    "!pip install -U -q PyDrive\n",
    "from pydrive.auth import GoogleAuth\n",
    "from pydrive.drive import GoogleDrive\n",
    "from google.colab import auth\n",
    "from oauth2client.client import GoogleCredentials\n",
    "# Authenticate and create the PyDrive client.\n",
    "auth.authenticate_user()\n",
    "gauth = GoogleAuth()\n",
    "gauth.credentials = GoogleCredentials.get_application_default()\n",
    "drive = GoogleDrive(gauth)\n",
    "\n",
    "id = '16g474hdNsaNx0_SnoKuqj2BuwSEGdnbt'\n",
    "downloaded = drive.CreateFile({'id':id}) \n",
    "downloaded.GetContentFile('training_data.csv')  \n",
    "\n",
    "id = '1-7hj0sF3Rc5G6POKdkpbDXm_Q6BWFDPU'\n",
    "downloaded = drive.CreateFile({'id':id}) \n",
    "downloaded.GetContentFile('testing_data.csv')  \n",
    "\n",
    "import pandas as pd\n",
    "training_data = pd.read_csv(\"/content/training_data.csv\")\n",
    "testing_data = pd.read_csv(\"/content/testing_data.csv\")\n",
    "\n",
    "print(\"------------------------------------\")\n",
    "print(\"Size of training dataset: {0}\".format(len(training_data)))\n",
    "print(\"Size of testing dataset: {0}\".format(len(testing_data)))\n",
    "print(\"------------------------------------\")\n",
    "\n",
    "print(\"------------------------------------\")\n",
    "print(\"Sample Data\")\n",
    "print(\"LABEL: {0} / SENTENCE: {1}\".format(training_data.iloc[-1,0], training_data.iloc[-1,1]))\n",
    "print(\"------------------------------------\")\n"
   ]
  },
  {
   "cell_type": "code",
   "execution_count": 2,
   "metadata": {
    "colab": {
     "base_uri": "https://localhost:8080/",
     "height": 206
    },
    "id": "WIHEbmSQp3fh",
    "outputId": "29ab9a4e-f4fe-4f79-86ec-9bce2f1b4872"
   },
   "outputs": [
    {
     "data": {
      "text/html": [
       "\n",
       "  <div id=\"df-64497586-daaa-4b78-9941-013a7e5d613f\">\n",
       "    <div class=\"colab-df-container\">\n",
       "      <div>\n",
       "<style scoped>\n",
       "    .dataframe tbody tr th:only-of-type {\n",
       "        vertical-align: middle;\n",
       "    }\n",
       "\n",
       "    .dataframe tbody tr th {\n",
       "        vertical-align: top;\n",
       "    }\n",
       "\n",
       "    .dataframe thead th {\n",
       "        text-align: right;\n",
       "    }\n",
       "</style>\n",
       "<table border=\"1\" class=\"dataframe\">\n",
       "  <thead>\n",
       "    <tr style=\"text-align: right;\">\n",
       "      <th></th>\n",
       "      <th>type</th>\n",
       "      <th>posts</th>\n",
       "    </tr>\n",
       "  </thead>\n",
       "  <tbody>\n",
       "    <tr>\n",
       "      <th>0</th>\n",
       "      <td>F</td>\n",
       "      <td>'http://www.youtube.com/watch?v=qsXHcwe3krw|||...</td>\n",
       "    </tr>\n",
       "    <tr>\n",
       "      <th>1</th>\n",
       "      <td>T</td>\n",
       "      <td>'I'm finding the lack of me in these posts ver...</td>\n",
       "    </tr>\n",
       "    <tr>\n",
       "      <th>2</th>\n",
       "      <td>T</td>\n",
       "      <td>'Good one  _____   https://www.youtube.com/wat...</td>\n",
       "    </tr>\n",
       "    <tr>\n",
       "      <th>3</th>\n",
       "      <td>T</td>\n",
       "      <td>'Dear INTP,   I enjoyed our conversation the o...</td>\n",
       "    </tr>\n",
       "    <tr>\n",
       "      <th>4</th>\n",
       "      <td>T</td>\n",
       "      <td>'You're fired.|||That's another silly misconce...</td>\n",
       "    </tr>\n",
       "  </tbody>\n",
       "</table>\n",
       "</div>\n",
       "      <button class=\"colab-df-convert\" onclick=\"convertToInteractive('df-64497586-daaa-4b78-9941-013a7e5d613f')\"\n",
       "              title=\"Convert this dataframe to an interactive table.\"\n",
       "              style=\"display:none;\">\n",
       "        \n",
       "  <svg xmlns=\"http://www.w3.org/2000/svg\" height=\"24px\"viewBox=\"0 0 24 24\"\n",
       "       width=\"24px\">\n",
       "    <path d=\"M0 0h24v24H0V0z\" fill=\"none\"/>\n",
       "    <path d=\"M18.56 5.44l.94 2.06.94-2.06 2.06-.94-2.06-.94-.94-2.06-.94 2.06-2.06.94zm-11 1L8.5 8.5l.94-2.06 2.06-.94-2.06-.94L8.5 2.5l-.94 2.06-2.06.94zm10 10l.94 2.06.94-2.06 2.06-.94-2.06-.94-.94-2.06-.94 2.06-2.06.94z\"/><path d=\"M17.41 7.96l-1.37-1.37c-.4-.4-.92-.59-1.43-.59-.52 0-1.04.2-1.43.59L10.3 9.45l-7.72 7.72c-.78.78-.78 2.05 0 2.83L4 21.41c.39.39.9.59 1.41.59.51 0 1.02-.2 1.41-.59l7.78-7.78 2.81-2.81c.8-.78.8-2.07 0-2.86zM5.41 20L4 18.59l7.72-7.72 1.47 1.35L5.41 20z\"/>\n",
       "  </svg>\n",
       "      </button>\n",
       "      \n",
       "  <style>\n",
       "    .colab-df-container {\n",
       "      display:flex;\n",
       "      flex-wrap:wrap;\n",
       "      gap: 12px;\n",
       "    }\n",
       "\n",
       "    .colab-df-convert {\n",
       "      background-color: #E8F0FE;\n",
       "      border: none;\n",
       "      border-radius: 50%;\n",
       "      cursor: pointer;\n",
       "      display: none;\n",
       "      fill: #1967D2;\n",
       "      height: 32px;\n",
       "      padding: 0 0 0 0;\n",
       "      width: 32px;\n",
       "    }\n",
       "\n",
       "    .colab-df-convert:hover {\n",
       "      background-color: #E2EBFA;\n",
       "      box-shadow: 0px 1px 2px rgba(60, 64, 67, 0.3), 0px 1px 3px 1px rgba(60, 64, 67, 0.15);\n",
       "      fill: #174EA6;\n",
       "    }\n",
       "\n",
       "    [theme=dark] .colab-df-convert {\n",
       "      background-color: #3B4455;\n",
       "      fill: #D2E3FC;\n",
       "    }\n",
       "\n",
       "    [theme=dark] .colab-df-convert:hover {\n",
       "      background-color: #434B5C;\n",
       "      box-shadow: 0px 1px 3px 1px rgba(0, 0, 0, 0.15);\n",
       "      filter: drop-shadow(0px 1px 2px rgba(0, 0, 0, 0.3));\n",
       "      fill: #FFFFFF;\n",
       "    }\n",
       "  </style>\n",
       "\n",
       "      <script>\n",
       "        const buttonEl =\n",
       "          document.querySelector('#df-64497586-daaa-4b78-9941-013a7e5d613f button.colab-df-convert');\n",
       "        buttonEl.style.display =\n",
       "          google.colab.kernel.accessAllowed ? 'block' : 'none';\n",
       "\n",
       "        async function convertToInteractive(key) {\n",
       "          const element = document.querySelector('#df-64497586-daaa-4b78-9941-013a7e5d613f');\n",
       "          const dataTable =\n",
       "            await google.colab.kernel.invokeFunction('convertToInteractive',\n",
       "                                                     [key], {});\n",
       "          if (!dataTable) return;\n",
       "\n",
       "          const docLinkHtml = 'Like what you see? Visit the ' +\n",
       "            '<a target=\"_blank\" href=https://colab.research.google.com/notebooks/data_table.ipynb>data table notebook</a>'\n",
       "            + ' to learn more about interactive tables.';\n",
       "          element.innerHTML = '';\n",
       "          dataTable['output_type'] = 'display_data';\n",
       "          await google.colab.output.renderOutput(dataTable, element);\n",
       "          const docLink = document.createElement('div');\n",
       "          docLink.innerHTML = docLinkHtml;\n",
       "          element.appendChild(docLink);\n",
       "        }\n",
       "      </script>\n",
       "    </div>\n",
       "  </div>\n",
       "  "
      ],
      "text/plain": [
       "  type                                              posts\n",
       "0    F  'http://www.youtube.com/watch?v=qsXHcwe3krw|||...\n",
       "1    T  'I'm finding the lack of me in these posts ver...\n",
       "2    T  'Good one  _____   https://www.youtube.com/wat...\n",
       "3    T  'Dear INTP,   I enjoyed our conversation the o...\n",
       "4    T  'You're fired.|||That's another silly misconce..."
      ]
     },
     "execution_count": 2,
     "metadata": {},
     "output_type": "execute_result"
    }
   ],
   "source": [
    "# Preview of the data in the csv file, which has two columns: \n",
    "# (1)type - label of the post (2)posts - the corresponding post content\n",
    "training_data.head()"
   ]
  },
  {
   "cell_type": "code",
   "execution_count": 3,
   "metadata": {
    "id": "0SvGBOm9DvR_"
   },
   "outputs": [],
   "source": [
    "# Extract the labels and posts and store into List\n",
    "\n",
    "# Get the list of training data (posts)\n",
    "training_posts=training_data['posts'].tolist()\n",
    "# Get the list of corresponding labels for the training data (posts)\n",
    "training_labels=training_data['type'].tolist()\n",
    "\n",
    "# Get the list of testing data (posts)\n",
    "testing_posts=testing_data['posts'].tolist()\n",
    "# Get the list of corresponding labels for the testing data (posts)\n",
    "testing_labels=testing_data['type'].tolist()"
   ]
  },
  {
   "cell_type": "markdown",
   "metadata": {
    "id": "l9gBSgBCQh24"
   },
   "source": [
    "## 1.1. URL Removal"
   ]
  },
  {
   "cell_type": "code",
   "execution_count": 4,
   "metadata": {
    "id": "emyl1lWxGr12"
   },
   "outputs": [],
   "source": [
    "# Remove URL\n",
    "def remove_url(data):\n",
    "  import re\n",
    "  # Url pattern\n",
    "  URL_Pattern = 'http\\S+'\n",
    "  return [re.sub(URL_Pattern, '', sentence) for sentence in data]"
   ]
  },
  {
   "cell_type": "markdown",
   "metadata": {
    "id": "QzLAO5a25qzS"
   },
   "source": [
    "## 1.2. Preprocess data (e.g. Stop words, Stemming)\n",
    "*related to the section 4.2*"
   ]
  },
  {
   "cell_type": "code",
   "execution_count": 5,
   "metadata": {
    "id": "jl7t5Vqo5_gq"
   },
   "outputs": [],
   "source": [
    "# Map contraction to full words\n",
    "contraction_dict = {\"ain't\": \"is not\", \"aren't\": \"are not\",\"can't\": \"cannot\", \"'cause\": \"because\", \"could've\": \"could have\", \n",
    "            \"couldn't\": \"could not\", \"didn't\": \"did not\",  \"doesn't\": \"does not\", \"don't\": \"do not\", \"hadn't\": \"had not\", \n",
    "            \"hasn't\": \"has not\", \"haven't\": \"have not\", \"he'd\": \"he would\",\"he'll\": \"he will\", \"he's\": \"he is\", \"how'd\": \"how did\", \n",
    "            \"how'd'y\": \"how do you\", \"how'll\": \"how will\", \"how's\": \"how is\",  \"I'd\": \"I would\", \"I'd've\": \"I would have\", \n",
    "            \"I'll\": \"I will\", \"I'll've\": \"I will have\",\"I'm\": \"I am\", \"I've\": \"I have\", \"i'd\": \"i would\", \"i'd've\": \"i would have\", \n",
    "            \"i'll\": \"i will\",  \"i'll've\": \"i will have\",\"i'm\": \"i am\", \"i've\": \"i have\", \"isn't\": \"is not\", \"it'd\": \"it would\", \n",
    "            \"it'd've\": \"it would have\", \"it'll\": \"it will\", \"it'll've\": \"it will have\",\"it's\": \"it is\", \"let's\": \"let us\", \n",
    "            \"ma'am\": \"madam\", \"mayn't\": \"may not\", \"might've\": \"might have\",\"mightn't\": \"might not\",\"mightn't've\": \"might not have\", \n",
    "            \"must've\": \"must have\", \"mustn't\": \"must not\", \"mustn't've\": \"must not have\", \"needn't\": \"need not\", \"needn't've\": \"need not have\",\n",
    "            \"o'clock\": \"of the clock\", \"oughtn't\": \"ought not\", \"oughtn't've\": \"ought not have\", \"shan't\": \"shall not\", \"sha'n't\": \"shall not\", \n",
    "            \"shan't've\": \"shall not have\", \"she'd\": \"she would\", \"she'd've\": \"she would have\", \"she'll\": \"she will\", \"she'll've\": \"she will have\", \n",
    "            \"she's\": \"she is\", \"should've\": \"should have\", \"shouldn't\": \"should not\", \"shouldn't've\": \"should not have\", \"so've\": \"so have\",\n",
    "            \"so's\": \"so as\", \"this's\": \"this is\",\"that'd\": \"that would\", \"that'd've\": \"that would have\", \"that's\": \"that is\", \"there'd\": \"there would\", \n",
    "            \"there'd've\": \"there would have\", \"there's\": \"there is\", \"here's\": \"here is\",\"they'd\": \"they would\", \"they'd've\": \"they would have\", \n",
    "            \"they'll\": \"they will\", \"they'll've\": \"they will have\", \"they're\": \"they are\", \"they've\": \"they have\", \"to've\": \"to have\", \"wasn't\": \"was not\", \n",
    "            \"we'd\": \"we would\", \"we'd've\": \"we would have\", \"we'll\": \"we will\", \"we'll've\": \"we will have\", \"we're\": \"we are\", \"we've\": \"we have\", \n",
    "            \"weren't\": \"were not\", \"what'll\": \"what will\", \"what'll've\": \"what will have\", \"what're\": \"what are\",  \"what's\": \"what is\", \"what've\": \"what have\", \n",
    "            \"when's\": \"when is\", \"when've\": \"when have\", \"where'd\": \"where did\", \"where's\": \"where is\", \"where've\": \"where have\", \"who'll\": \"who will\", \n",
    "            \"who'll've\": \"who will have\", \"who's\": \"who is\", \"who've\": \"who have\", \"why's\": \"why is\", \"why've\": \"why have\", \"will've\": \"will have\", \n",
    "            \"won't\": \"will not\", \"won't've\": \"will not have\", \"would've\": \"would have\", \"wouldn't\": \"would not\", \"wouldn't've\": \"would not have\", \n",
    "            \"y'all\": \"you all\", \"y'all'd\": \"you all would\",\"y'all'd've\": \"you all would have\",\"y'all're\": \"you all are\",\"y'all've\": \"you all have\",\n",
    "            \"you'd\": \"you would\", \"you'd've\": \"you would have\", \"you'll\": \"you will\", \"you'll've\": \"you will have\", \"you're\": \"you are\", \"you've\": \"you have\"}\n",
    "def remove_contraction(data):\n",
    "  result = []\n",
    "  for x in data:  \n",
    "    words = x[1:-1].split(' ')\n",
    "    link = ' '\n",
    "    result_words = []\n",
    "    for word in words:\n",
    "      if word in contraction_dict.keys():\n",
    "        result_words.append(contraction_dict[word])\n",
    "      else: result_words.append(word)\n",
    "    result.append(link.join(result_words))\n",
    "  return result\n"
   ]
  },
  {
   "cell_type": "code",
   "execution_count": 6,
   "metadata": {
    "id": "-L4PGaHHK7ft"
   },
   "outputs": [],
   "source": [
    "# Remove puncts\n",
    "puncts = [',', '.', '\"', ':', ')', '(', '-', '!', '?', '|', ';', \"'\", '$', '&', '/', '[', ']', '>', '%', '=', '#', '*', '+', '\\\\', '•',  '~', '@', '£', \n",
    " '·', '_', '{', '}', '©', '^', '®', '`',  '<', '→', '°', '€', '™', '›',  '♥', '←', '×', '§', '″', '′', 'Â', '█', '½', 'à', '…', \n",
    " '“', '★', '”', '–', '●', 'â', '►', '−', '¢', '²', '¬', '░', '¶', '↑', '±', '¿', '▾', '═', '¦', '║', '―', '¥', '▓', '—', '‹', '─', \n",
    " '▒', '：', '¼', '⊕', '▼', '▪', '†', '■', '’', '▀', '¨', '▄', '♫', '☆', 'é', '¯', '♦', '¤', '▲', 'è', '¸', '¾', 'Ã', '⋅', '‘', '∞', \n",
    " '∙', '）', '↓', '、', '│', '（', '»', '，', '♪', '╩', '╚', '³', '・', '╦', '╣', '╔', '╗', '▬', '❤', 'ï', 'Ø', '¹', '≤', '‡', '√', ]\n",
    "\n",
    "def remove_punctuation(data):\n",
    "  result = []\n",
    "  for sentence in data:\n",
    "    sentence = str(sentence)\n",
    "    for punct in puncts:\n",
    "      if punct in sentence:\n",
    "        sentence = sentence.replace(punct, '')\n",
    "    result.append(sentence)\n",
    "  return result\n"
   ]
  },
  {
   "cell_type": "code",
   "execution_count": 7,
   "metadata": {
    "colab": {
     "base_uri": "https://localhost:8080/"
    },
    "id": "Z9CDz1x9K-MU",
    "outputId": "03602c73-ff2c-432c-95a1-5ac626c3a950"
   },
   "outputs": [
    {
     "name": "stdout",
     "output_type": "stream",
     "text": [
      "[nltk_data] Downloading package punkt to /root/nltk_data...\n",
      "[nltk_data]   Unzipping tokenizers/punkt.zip.\n",
      "[nltk_data] Downloading package stopwords to /root/nltk_data...\n",
      "[nltk_data]   Unzipping corpora/stopwords.zip.\n"
     ]
    }
   ],
   "source": [
    "# Tokenization\n",
    "import nltk\n",
    "nltk.download('punkt')\n",
    "nltk.download('stopwords')\n",
    "\n",
    "from nltk.corpus import stopwords as sw\n",
    "from nltk.tokenize import word_tokenize\n",
    "\n",
    "\n",
    "def tokenize_data(data):\n",
    "  return [word_tokenize(sentence) for sentence in data]\n"
   ]
  },
  {
   "cell_type": "code",
   "execution_count": 8,
   "metadata": {
    "id": "mD6YzZNsLAl8"
   },
   "outputs": [],
   "source": [
    "# 1. Remove stop words\n",
    "\n",
    "stop_words = sw.words()\n",
    "def remove_stop_words(data):\n",
    "  return [[w for w in sentence if not w in stop_words] for sentence in data]\n"
   ]
  },
  {
   "cell_type": "code",
   "execution_count": 9,
   "metadata": {
    "id": "jcOAL-6nLCKm"
   },
   "outputs": [],
   "source": [
    "# 2. Stemming\n",
    "from nltk.stem.snowball import *\n",
    "stemmer = SnowballStemmer('english')\n",
    "\n",
    "def stemming(data):\n",
    "  return [[stemmer.stem(word) for word in sentence] for sentence in data]"
   ]
  },
  {
   "cell_type": "code",
   "execution_count": 10,
   "metadata": {
    "colab": {
     "base_uri": "https://localhost:8080/"
    },
    "id": "IID3Fo_oLI_l",
    "outputId": "b8d53950-b77a-4d0a-ca3c-a4fba8407d22"
   },
   "outputs": [
    {
     "name": "stdout",
     "output_type": "stream",
     "text": [
      "[nltk_data] Downloading package wordnet to /root/nltk_data...\n",
      "[nltk_data]   Unzipping corpora/wordnet.zip.\n"
     ]
    }
   ],
   "source": [
    "# 3. Lemmatisation\n",
    "\n",
    "nltk.download('wordnet')\n",
    "\n",
    "from nltk.stem import WordNetLemmatizer\n",
    "\n",
    "lemmatizer = WordNetLemmatizer()\n",
    "\n",
    "def lemmatisation(data):\n",
    "  return [[lemmatizer.lemmatize(word) for word in sentence] for sentence in data]"
   ]
  },
  {
   "cell_type": "code",
   "execution_count": 11,
   "metadata": {
    "id": "1Ykngh15LKue"
   },
   "outputs": [],
   "source": [
    "# 4. Remove numbers\n",
    "def remove_numbers(data):\n",
    "  result = []\n",
    "  for sentence in data:\n",
    "    temp = []\n",
    "    for word in sentence:\n",
    "      word = re.sub(r'\\d+', '', word)\n",
    "      if len(word) != 0:\n",
    "        temp.append(word)\n",
    "    result.append(temp)\n",
    "  return result"
   ]
  },
  {
   "cell_type": "code",
   "execution_count": 12,
   "metadata": {
    "colab": {
     "base_uri": "https://localhost:8080/"
    },
    "id": "cMGOUx3JLTIB",
    "outputId": "d52431e0-3c97-48fe-dd83-70b6c3753213"
   },
   "outputs": [
    {
     "name": "stdout",
     "output_type": "stream",
     "text": [
      " and intj moments    sportscenter not top ten plays    pranksWhat has been the most lifechanging experience in your life     On repeat for most of todayMay the PerC Experience immerse youThe last thing my INFJ friend posted on his facebook before committing suicide the next day Rest in peace    ENFJ7 Sorry to hear of your distress Its only natural for a relationship to not be perfection all the time in every moment of existence Try to figure the hard times as times of growth as84389  84390     Welcome and stuff  Game Set MatchProzac wellbrutin at least thirty minutes of moving your legs and I do not mean moving them while sitting in your same desk chair weed in moderation maybe try edibles as a healthier alternativeBasically come up with three items you have determined that each type or whichever types you want to do would more than likely use given each types cognitive functions and whatnot when left byAll things in moderation  Sims is indeed a video game and a good one at that Note a good one at that is somewhat subjective in that I am not completely promoting the death of any given SimDear ENFP  What were your favorite video games growing up and what are your now current favorite video games cool appears to be too late sadTheres someone out there for everyoneWait I thought confidence was a good thingI just cherish the time of solitude bc i revel within my inner world more whereas most other time i would be workin just enjoy the me time while you can Dont worry people will always be around toYo entp ladies if you are into a complimentary personalitywell hey when your main social outlet is xbox live conversations and even then you verbally fatigue quickly  I really dig the part from 146 to 250 because this thread requires it of meGet high in backyard roast and eat marshmellows in backyard while conversing over something intellectual followed by massages and kisses for too many bs in that sentence How could you Think of the BBanned for watching movies in the corner with the duncesBanned because Health class clearly taught you nothing about peer pressureBanned for a whole host of reasons Two baby deer on left and right munching on a beetle in the middle  2 Using their own blood two cavemen diary todays latest happenings on their designated cave diary wall  3 I see it asa pokemon world  an infj society  everyone becomes an optimist49142 all artists are artists because they draw Its the idea that counts in forming something of your own like a signatureWelcome to the robot ranks person who downed my selfesteem cuz I am not an avid signature artist like herself proudBanned for taking all the room under my bed Ya gotta learn to share with the roaches for being too much of a thundering grumbling kind of storm yepAhh old high school music I have not heard in ages    failed a public speaking class a few years ago and I have sort of learned what I could do better were I to be in that position again A big part of my failure was just overloading myself with tooI like this persons mentality Hes a confirmed INTJ by the way  to the Denver area and start a new life for myself\n",
      "Actually from these results it looks like you are triplewithdrawn 5w4 9w8 4w5  It would appear that you just happen to have strong 2 6 and 7 traitsIts odd that you are associating the whole heart triad with narcissism  Also I would associate Fives with having some antisocial disorder not Eights BTW let us set aside the aspergers and call itSo is my mom  It sometimes annoys me to pieces  My mom Go do insert known todo task here Me I know My mom Well if you know then why do not you go do it  yeah I am not oneIm gonna guess the EJ types are most likely to groupthink but I am not entirely sure  Thoughts  Also which types are least likely to groupthinkVery true  My guess is that 9s are the most idealized type thanks to our high levels of neutrality and inner tranquility but from the perspective of a 9 it is not worth it to idealize any type I hardly ever wear hats if at all  Nice new avatar BTW dealwithitThe ENTJ I am currently living with apparently has used his Se via cooking amid other things I am not 100 sure of  Hes quite nice with Se compared to TeNi alone  Sometimes I kinda wonder howYou have been criticized of having less thanks than posts guiltyA Type 9 looks at the poll  Were so popular proud  Goes and votes for 9  EDIT and 9th vote  What a number crazyIt seems both of the ISPs seem to hold out relationships and get married longer than the ESPs  Also some stats from Personality Page  Highest Percentage Married   From highest toLooks back at thread  Riiiiiiiiiight so why did I create this thread dry  maybe too much like comparing an ISTP to an INTPMaybe an INTP in a TiSi loop  I tend to be nitpicky about my environment as well due to my high SiSo am I and although my 5w6 is close I am a 9w1 I have absolutely no 8 anywhere in my Enneagram type at allNot to mention it feels somewhat disturbing and unreal to do it all the timePSTypes Enneagram Test Results  The Distribution of Your Scores    Type One  15  Type TwoIm probably the one all the way to the right   Am I now weird for looking well crazyMaybe because Enneagram is not as official and popular as MBTI and so it is hard to find broad realworld statsTP and FP are not necessarily associated with a Pe function  Theyre associated with domaux Ti and Fi respectively  Anyway you could divide up the 16 types in a number of ways of four EJ EPNot an SJ but my mom who is an SJ her parents are most likely ESFJ and ISTPWhy  The discussions fine  nothings heated up in hereI used to wear a watch when I was younger but watches tend to irritate my wrist so I stopped  Besides there are other ways for me to tell time when it is necessary  Also beware under1 Words of Affirmation  Meh  2 Gifts  Giving them yep  Receiving them is another story  3 Acts of Service1 Not entirely sure  Theyre mostly about places than anything else  Seldom if at all are there people in my dreams 2 Often like most other things I remember a dream quite vividly but theTheyll probably get along quite well  This is probably true for any XwY with a YwX  BTW if you were wondering the little w between the numbers stands for wing not with it can be unclearIve wondered how common each of the 9 fundamental Enneagram types are  Does anyone know or have a linkFrom typelogiccom  Intuition is tertiaryas the ESFJ matures and as situations arise which call for suspension of criticism Ne is allowed to play  Under the leadership of the Fe functionFrom typelogiccom  As the ESTJ matures and as situations arise which call for suspension of criticism Extraverted iNtuition is allowed to play  Under the leadership of the Te functionAgain sorry if I am harsh  Try not to take everything here personally  If you look inside the parentheses there is my alternate possibility Im not inconsiderate  It turns out I was justI tend to apologize like that too very reasoned out  Maybe it is a TF thingThis obligation of SJs not just ESTJs amid others is what drives me up a wall sometimes  My ESFJ mother has this tendency to do this to me although not to the degree you are encountering  I find this interesting  I never would have guessed that an ESTJ would tell a white lie this in part due to my stereotypical views of ESTJs  As a thinking type I might get thrown off by this andNot to be harsh but speaking of lies you could be lying about your strong STJ  It looks like you are just strong J either that or I could be misreading the scale  So another question whatHeres a third ISTP to add to that  I will say though that because of my autism I have an unusually strong Si  It could happen to an ISFP and the result could be an autistic ISFP with ISFJHere I replied to your thread happy crazy  Anyway I once read that IFPs such as you do not seem to have much patience with types whose preferences are strongly T or J let alone TJMostly Se and Ni  I rule with Ti so I do not need work there  Te and Fi are doing OK and they will develop better in my later life  Ne I just suck at and Fe I am not too good with either  BothP S  Why do you terms and conditions have to be so long  Do you have any idea how discouraging and redundant that is  Ever heard of plain English and not legaleseI need to get out more recurringthoughtofmineSounds like you need to relax  It also sounds like you need to forgive your INTPs detached perceiving nature  Maybe he got quickly boredThanks to everyone here who shared their twosided Se understanding  I remember my high school ENFJ teacher taking us outside during homeroom  Se relief proudFirst impression ESTJ maybe with a strong Se  Certainly underdeveloped in terms of cognitive functions such as Ne and FiIt looks like you have just won out the rest of us either that or you were not being true to yourselfISTJ Cup of coffee ESTJ Judges mallet for lack of a proper name if there is one ISTP Someone fixing up their cool vehicle be it a car motorcycle bicycle or otherwise ISFP An artistThe question is will it be because we humans could control ourselves or because mother nature forced usI would guess this is an Si thing    Given my strong Si I have become like this as well  However being an SP I do not need routine just need to know how it worksI find it fascinating that some ISFJs have higher Te than Ti  It had me wondering if most other SJs have higher Te and Fe than their Ti and Fi  When my ESFJ mother tested out she had higher TeHow nostalgic are you  It would appear that Si nostalgia is fairly strong among you ESFJs being SiauxI wondered where this thread went  has a thought of music and therefore cannot be describedFrom an ISTP with aux Se this is an insightful thread  I have sometimes wondered if ENFJs or ENxJs for that matter experience Se in a hereandnow manner like SPs doI can imagine like any identity relationship that it will be a nice one but eventually will get boring  I sometimes wonder what an ISFPISTP relationship would look likeLets see  Playing games especially ones that integrate the Ti element which few adventurous games seem to do skiing biking hiking climbing procrastinating here not uncommon among us\n",
      "I am finding the lack of me in these posts very alarmingSex can be boring if it is in the same position often For example me and my girlfriend are currently in an environment where we have to creatively use cowgirl and missionary There is not enoughGiving new meaning to Game theoryHello ENTP Grin  Thats all it takes Than we converse and they do most of the flirting while I acknowledge their presence and return their words with smooth wordplay and more cheeky grinsThis  Lack of Balance and Hand Eye CoordinationReal IQ test I score 127 Internet IQ tests are funny I score 140s or higher  Now like the former responses of this thread I will mention that I do not believe in the IQ test Before you banishYou know you are an ENTP when you vanish from a site for a year and a half return and find people are still commenting on your posts and liking your ideasthoughts You know you are an ENTP when you over think things sometimes I go by the old Sherlock Holmes quote  Perhaps when a man has special knowledge and special powers like my  own it rather encourages him to seek a complexcheshirewolftumblrcom  So is I D400000  postNot really I have never thought of EI or JP as real functions  I judge myself on what I use I use Ne and Ti as my dominates Fe for emotions and rarely Si I also use Ni due to me strengthYou know though That was ingenious After saying it I really want to try it and see what happens with me playing a first person shooter in the back while we drive around I want to see the look onout of all of them the rock paper one is the best It makes me lol  You guys are lucky D I am really high up on the tumblr systemSo did you hear about that new first person shooter game I have been rocking the hell out of the soundtrack on my auto sound equipment that will shake the heavens We managed to put a couple PS3s inNo The way he connected things was very Ne Ne dominates are just as aware of their environments as Se dominates  Example Shawn Spencer or Patrick Jane Both ENTPsWell charlie I will be the first to admit I do get jealous like you do I chalk it up to my 4w3 heart mixed with my dominate 7w8 7s and 8s both like to be noticed 4s like to be known not the sameD I will upload the same clip with the mic away from my mouth Than you will not hear anything  Ninja Assassin style but with splatterTik Tok is a really great song As long as you can mental block out the singer I love the beat it makes me bouncedropio v1swck0  D Mic really close to my mouth and smokin aces assassins ball playing in the backgroundSociable  extrovert I am an extrovert and I am not sociable Sherlock in the movie was an ENTP Normally he is played as a EXTJ In the books he is an ESTJ  As I said The movie looked good except for it being called sherlock holmes I never had fear of kissing a guy I will kiss an animal too So there was nothing to vanish Just personal taste and me not liking it  The guy I kissed did not know me It was one of thoseSounds pretty much like my area and what I am going through right now trying to figure out which way I want to take my life I want to do so many things The biggest problem is that I know if I dontD I was operating under the impression that you were female I never looked at your boxy Okay I help out my gay friends all the time and one of them has developed a little crush on me I get redTT You just described me  and I am living the worst nightmare I am trapped in one place with one one around Only dull woods If I was a serial killer this would be the perfect place but sadly ImTBH and biased sounds like a shadowed INFP I think maybe he was hurt and turned ESTJ I can tell because he has some of the typical INFP traits left overChecks list I am sorry It seems that you have came at a bad time Weve already reached our quota of INFJs However being you are female and I like females I will make you a deal I will kick oneIm ANTP Leaning toward E I am easy for both ENTPs and INTPs to identify with I also imagine ENTPs interrogations would go a little bit like Jacks from 24 except more mechanical Rigging up shock treatment equipment in an abandoned building out of an old car batty jumperIt was a compliment  Trust me I am just as psychopathic D except I have emoticons Theyre just weird ones Like laughing when I get hurt or at people running themselves over with their lawn mower  Its like a theme for where I live and that is why I know it by heart    I usual do not leave until the thing ends But in the mean time In between times You work your thing I will work mine D  D I am the MBP Pleasure to meet youDamn need to trust my instincts more I would have been closer I was going to say INFPEXFP Leaning toward S with the way she responded  D My friends even my gay and lesbian ones always come to me for adviceI bow to my entp masters ENTPs are so great If it was not for ENTPs I would not have been able to build what I am building  Duck Duck  Duck  ShotgunWhat Me I never do that  Because its hard to be sad about losing someone you like when you knew you were right and give yourself a big pat on the back because you are awesome and always correctOh you do not have to tell me that most of them are stupid I know this That is why I play with them and it makes me laugh D As I am going to take Neuropsychology and I have a few psychologistD I am a Nightowl I wake up between 67pm and stay awake till 101130amPersonal opinion backed by theory would suggest that INTPs are the most socially difficult While INTJs can be socially indifferent but they will also use social situations if the the need arisesPersonal stocks that I have on my desktop that I have downloaded from random stock sites and stock photobucketsIll tell you when I open photoshop   Glad you like it staticD Thanks   Made for a friend Several hours of work I constructed every line by Static   I will have to get to your avatar later if one of my fellow teammates doesntPsychologist do not keep me around long enough to diagnosis me I like to toy with them What I have diagnosis myself with and had a few psychologist friends  a few other friends tell me I have is\n",
      " does indeed help To answer the question my IQ is 129 and it was professionally administered But it does not mean anything to meI do not need a number to tell me I am intelligent IShall I play you a song on the worlds smallest violinI really do not get how you guys think she is an introvert Shes said many times about how extroverted she is and she was voted Most Talkative by her high school I can see an introvert beingAssuming morality is absolute can you explain to me the absolute best moral choice out of every situation I am assuming you cannot and on who is authority should we accept these truths It cannot beHello all  I originally joined this site in late 2009 and I lurked for many months before I had just turned 19 and started college  in search of myself and I used this forum to help discover1 Log in after a week or so of not being on here 2 Look at INFJ forum sees that all the new threads are already ones that I have seen and discussed in the past 3 Check the new posts in case II hope everyone realizes the difference between a nice guy and a well nice guywwwyoutubecomwatchvDOX9l4Ys7NYI would retire my account since I do not ever come on here anymore and I do not really care about MBTI anymore but why put an unnecessary restriction on myselfIm not a virgin In some ways I still wish I wasI lost my virginity to someone who I was not in love with The girl I am with right now is and if it were not for that one girl I would be too andIm 21 I am young amiriteHaving the feeling of being alone  Being able to tell a lot about a person just by their energy Its almost like I have known them for years And then if they find this out it freaks them out think it might be more of a biological thing and how you were raised more than how it is based on your type but I can see how type could play a part  As for meyeah I am nowhere near anI suppose I still am but I have lowered my standards so much to where I date people I do not even like probably just to not feel alone I am a little disgusted with myself at the moment know what you mean I have had this same problem for the longest time and I too can seem to spark relationships better over text Weird But anyways I have just forced myself to be a little moreI can imagine most INFJs can relate to this    trust test results That being said I could very well be an INFJ type 3My views have always been that I will never have sex with someone that I know is just gonna lead to sex and that is it Up to this point I have followed through to that because I cannot imagine givingFor me like most of you it comes out very early on but I try to control my tongue for as long as I can so I hardly ever say it at all at least intentionally At the beginning I think it is lessRight now I am debating whether I am an ENTP or INFJ  Sounds very strange but both of them fit meWho does not get a little genocidal every now and thenWalter may actually be an INFJ not an INTJ The reason I say this is that it is VERY clear to me that Gus is an INTJ but there seems to be some variance between them I will be able to explain moreBout damn timeIm a dude so it is kind of embarrassing that I like this show but it is not too bad The only two I know are Lorelai and Rory and they are ESFP and INFJISFJ respectively   would say you are an ESFP or ENFP probably leaning stronger with ESFP over ENFP  Youre not introverted At allAre you seriously basing your dating life based on some Personality Theory that may or may not be bullshitI seriously hope this is a joke thread Its getting that bad that I cannot tell if someone is trolling or just flat out fucking stupid  As for who is going to winunless Romeny wins theCongratulationsI never made one in the first place sohey  I am not sure why I am even making this as I am probably just gonna retire this account soon anyway but ya know just thought I would make oneYoure typism  Honestly I do not really have a specific type that annoys me Stupid annoys me not type  That being said for the love of FSM and all that is holy I am NEVER EVER EVER this is not the first time you have posted something like this in the two years I have been here it is in all likelihood depression dude I had the same symptoms for oh 7 years or so and when IIm my own partnerEDIT I guess that is what I get for not reading the whole postCan I come tuck you inYoure probably a 3 then  I am a type three myself and I fall into the more reserved category with most people I would still consider myself extroverted but people who talk nonstop actually get common I am a 3 but a 3w4 not a 3w2Not at all ENTP I would say ISTP or ESTP if that does not work the words right out of my mouthJust so everyones clear getting a percentage on a MBTI does not mean you are 75 introvert It means you can be pretty confident you are an introvert  Back on topic I am pretty much certain thatYeah same thing happened to me Fuckers  Dear stupid peoplejust because I do not show it does not mean I am not judging you At least you keep me entertained  Excuse my misogyny but fuckTell me about it But ironically I am dating a girl from California who moved over here a while ago and I met her through Ok Cupid Didnt actually expect that thing to produce results but it hasId say Obama is most definitely an ENFJ Speaking to common values but sticking to his own internal vision etc  Sarah PalinESFJ  Ronald ReaganHard to tell Probably ESTP in my opnion \n",
      "Good one      course to which I say I know that is my blessing and my curseDoes being absolutely positive that you and your best friend could be an amazing couple count If so than yes   Or it is more I could be madly in love in case I reconciled my feelings which atNo I didnt thank you for a linkSocalled TiSi loop and it can stem from any current topicobsession can be deadly Its like when you are stuck in your own thoughts and your mind just wanders in circles Feels truly terrible Have you noticed how peculiar vegetation can be All you have to do is look down at the grass dozens of different plant species there    And now imagine that hundreds of years later whenif soilThe Smiths  Never Had No One EverI often find myself spotting faces on marble tileswoodThis 5 yearold sentence is an incredibly accurate and beautiful descriptionI have not visited this website in the last 3 years So whoever reads this and maybe even remembers me which I highly doubt hi  700049  700057When you sit in your garden until 1030 PM writing songs and sing them together with dozens of crickets while playing your acoustic guitarThis is the most INTPish thread I have ever seenI would not be able to look at the painting for the entire life if I knew that I picked it over the human beingI was drawing a background for my animation on which I am working right now  it should have been Mars But I felt obligated to make Mark Watneyx92s postcard from it D  If you read the bookI started to make comics about turtle Gordon and unicorn Chimes  here you can see two first stories  Recently I started to post my comics about two friends  turtle Gordon and unicorn Chimes Before that I just posted stuff that interested me but from now on I will try to include only my worksProbably we could work together on a new model  I am an expert in abrupt explosions of laughter upon various weird stuff That happens because of peculiar sense of humor  so peculiar that not muchHellooo Nah you can touch it Everyone thinks that it is scared or sad but that is not true  in fact it has an absolutely neutral face And this kitten actually really likes patting and hugs onlyWell kind of As it was already mentioned sometimes because of Ni it is hard to convey complex stuff which pops up in your head in whimsical compilations of shapes and pictures only with wordsI think this kitten would be very appropriate here  376562367034GOOD NIGHT everyone out there Even if for someone there is morning right now  nights always supersede mornings And people say good night in order to meet next day Oh that movie  Its awesome Thank you Hope you had good sleep in the air anyway I am wishing you good night for the next night ahead hopefully it will be on land  Good people deserve good358882  358890Well other people who may be wondering about an issue from the name of the topic will find your response helpful anyway This Finally someone mentioned that I still see creaturesfaces in a maze of various random patterns It can be amusing sometimes  Its a very handy skill when you are boredOh I did not know that What a pity  Why not sacrifice whole supermarket then We can decide which Walmart will be the best I think the biggest one would be greatyippy  Here you go  357002  He thinks that the fire is delicious Should I sacrifice tofu I do not like to waste foodI do not think that the creator of this thread cares what is going on here after 3 years Heh I understand you  With these same given languagesYessss Adventure Time DI get angry quite rarely but when I do it is safer for surrounding people to go somewhere else Its impossible for me to hide or suppress anger the only way to get rid of this feeling is to burstIve never liked it  Anything fake is bad actuallyHugs should be given only to chosen ones Chosen There are quite few of them though349890Yup you are doing it right  course it is not very comfortable  But Human race survived thankfully womens ability to give birth to other human beings It worked for thousands of years Why change it Besides there areThat happens And it occurs because most often people use results of extremely precise and elaborate online tests as a basis of determining ones type      Both visual and language arts more246386I study graphic design now which I really enjoy What is interesting about this field is that the ability to generate ideas and solve problems is much more important than possession of a specificAlexxxandra97  DeviantArt236994 am always ready to discipline to intimidate to be precise my siblings offenderWorld domination Shooting people in the head Why  Oh right INTJs always must be characterised only with these words     I want to show so badly my reaction to this 221226218106ISTP  \n",
      "As an ENFJ how ambitious are you I am fairly ambitious I have two undergrad degrees SociologyReligious Studies  in Education in ESLSecondary Education I left about a 3 year gap between bothWelcome  I find that writing my thoughts in freeflow about the situation helps me cope with separating my feelings with the other person I also remind myself that I will not allow anotherhealthy ways  workout regularly yoga talk to my boyfriendfriends Maintain a regular sleep schedule  unhealthy  chocolate more chocolate Sometimes other unhealthy foods It is going excellent Are relationship is building an amazing foundation We love to express our feelings for each other through poetry my preference through drawings  art his preference WeHey INFPs  barely post anymore I just wanted to share that I met my INFP boyfriend on Feb 4th of this year We met through a dating app We have never been more in love  we have both described ourIts been six dates and I found myself an INFP he took the test  and yes he is an INFP The connection is just so amazing and intense right now it even scares me  He told me he has neverI am curious what you would like Yeah we ENFJs are unique Wonder if this has to do with enneagramlove stylesI do not have a ton of info as I have not met this guy in person  only chatted with him yesterday for the first time online Heres what I do know  according to his profile he is looking forHere are some signs  they tend to talk faster  they will have a tougher time filling in gaps in the conversation sometimes they will not initiate the interaction get a bit more shy or wait tillDislike my INFP bestfriends sister We only just met this month I do not know I felt strangely upset about why I do not like her sister and guilty The girl is so selfabsorbed  does things thatYeah I hear you there You just never know that you will fall in love with someone It does come out of nowhereWell put I am borrowing this one in the futureHere are some ideas anything handwritten or created by hand so original this can range from poetry a cleverly created time line of your relationship with photos in form of a YouTube clip tooI totally relate to what you said thereYes I am with you I find it very hard to fall in love Some people have been known to mistake my friendly extrovert behaviour as some kind of romantic interest Must be going out of style to takeThanks for the reply I agree with what you have said I would actually like to dump and bailout on her at this pointThat is what she said However her friend reporting me to HR would not have any affect on me I do not work there I am simply an individual who applied for a grant which is govt money This moneythank you sane adviceHey I am working with INFP on a community project Without going into too many details a number of people have dropped the ball on her including the Illustrator who was working with her an INTP    So good James is also a Youth WorkerMusician the nonlyrical version of the song is amazing any how  F3  Throwback to 1995Reminds me of the barista at my local Starbucks Still checking if he is going to do some more rad art work and what is next in his life lol  Bono is rumoured to be an ENFJ as well yeah that is the correct way to put I felt my post was rather unbalanced The one male ENFP I know is an excellent photographer  very reliable when it comes to delievering his work I think it wasYes that is what I was conveying Glad it made sense Really tongue  I think about the 2 ENFP friends I have well one is not a friend anymore by virtue of the total lack of effort she puts in our friendship They amass so many friends very quicklyIs it me or do other ENFJs have trouble opening up I find it takes forever for me to actual talk about myself as a person unless someone asks direct questions  but who the heck does that PMostly jealous of their social acumen They walk into a room  trump all the efforts of other people namely ENFJs through their charisma and largerthanlife personalities  I find they say alotI agree with what Gilly said  point on   I find that people simply do not directly ask questions about me I think it is refreshing for ENFJs to be able to talk about themselves We value1 A big party that will have mostly acquaintances and strangers There is alcohol food and music but the point is to mainly talk to others  I would likely be tired thinking about this eventpart in bold  Something tells me that you feel disappointed about this or at least confused that he wanted to stayintouch but chooses not to initiate contact If he is not choosing to contact youThanks for sharing Gilly   Well I believe in my 30s I started to care less about fitting in and pleasing other peoples whims particularly people who wanted me to change I also became muchI did not read the link yet I had a best friend that is a ESTJ Very controlling and unable to accept new ways of doing things It was her way or the highway I also felt she cared too much aboutThanks for the reply I like how you helped me work that out ENFJ brotherHave you tried an I feel statement Basically you would explain how you feel without implicating him So you could say something like I feel  frustrated rejected shut down yes good observation There were other reasons he did not want to share with me I often wonder why he would not want to I typically do not see ESFJs as very private people   Thanks forCouldnt agree more with all that is posted here Dont over complicate things Start with FB  then a coffee before moving on to something more Honestly if she does not want to talk to you sheYes during times of frustration I feel the same Before I reach out to someone I ask myself if they are not there for me when I need them will I be ok with helping them now This help me putQuestion for my ENFJ brothers and sisters  how do you get over a breakup especially with someone you still have great memories with and truly loved I still my ex ESFJ boyfriend and it is beenI would not worry at all He also told you not to worry  trust him The thing is he knows to know she needs to own her feelings and that he is not responsible for them It is important that youWhen I look back on when I met the ESFJ I once dated he was immediately affectionate with me Reached for my hand kissed me  very obvious When we spoke he listened to me intently  asked me some new picture of me By new it is a year old but I have not changed in yearsJust watched the trailer I cannot decide from the itybityclip if he is an ENFJ Looks like an awesome movieMr Selfridge my newest love Fresh Prince of Bel  Air Star Trek the Next Generation thanks to my INFP sister Breaking Bad whole season is fantastic Top Chef  I do not have a lot of time toIts been a while ENFJs    I am curious to know how your views on relationships romantic familial friendships colleagues has changed over the course of your life A broad question that canNot as popular as ENFPs though I find that if their is an ENFP in the room they will outshine us People just gravitate towards them   I think if we need to take care of the needs of the groupIt used to bother me in the past but knowing that I dislike not hate I cannot say I hate anyone some people I am comfortable knowing that others would also dislike me I used to have a sense ofGreat question   I had a little school on the block I would make worksheets buy all kinds of supplies for my stickers  fix the booboos of the little kids Is it surprising that I am aNormally I do not like beards on men However when it comes to Mr Selfridge I would make an exception It looks really sexy Well groomed and suits him well My ex also looked very hot with a beard \n"
     ]
    }
   ],
   "source": [
    "# Without URL\n",
    "\n",
    "training_data_after_removing_url_punct_contraction = remove_punctuation(remove_contraction(remove_url(training_posts)))\n",
    "testing_data_after_removing_url_punct_contraction = remove_punctuation(remove_contraction(remove_url(testing_posts)))\n",
    "for i in range(0,3):\n",
    "  print(training_data_after_removing_url_punct_contraction[i])\n",
    "  print(testing_data_after_removing_url_punct_contraction[i])\n"
   ]
  },
  {
   "cell_type": "code",
   "execution_count": 13,
   "metadata": {
    "colab": {
     "base_uri": "https://localhost:8080/"
    },
    "id": "2aOo16pKAXpJ",
    "outputId": "bc11c6d3-ba34-4b72-d4f6-7b6a20d74edd"
   },
   "outputs": [
    {
     "name": "stdout",
     "output_type": "stream",
     "text": [
      "httpwwwyoutubecomwatchvqsXHcwe3krwhttp41mediatumblrcomtumblrlfouy03PMA1qa1rooo1500jpgenfp and intj moments  httpswwwyoutubecomwatchviz7lE1g4XM4  sportscenter not top ten plays  httpswwwyoutubecomwatchvuCdfze1etec  pranksWhat has been the most lifechanging experience in your lifehttpwwwyoutubecomwatchvvXZeYwwRDw8   httpwwwyoutubecomwatchvu8ejam5DP3E  On repeat for most of todayMay the PerC Experience immerse youThe last thing my INFJ friend posted on his facebook before committing suicide the next day Rest in peace   httpvimeocom22842206Hello ENFJ7 Sorry to hear of your distress Its only natural for a relationship to not be perfection all the time in every moment of existence Try to figure the hard times as times of growth as84389  84390  httpwallpaperpassioncomupload23700friendshipboyandgirlwallpaperjpg  httpassetsdornobcomwpcontentuploads201004roundhomedesignjpg Welcome and stuffhttpplayeressencecomwpcontentuploads201308REDredthepokemonmaster32560474450338jpg  Game Set MatchProzac wellbrutin at least thirty minutes of moving your legs and I do not mean moving them while sitting in your same desk chair weed in moderation maybe try edibles as a healthier alternativeBasically come up with three items you have determined that each type or whichever types you want to do would more than likely use given each types cognitive functions and whatnot when left byAll things in moderation  Sims is indeed a video game and a good one at that Note a good one at that is somewhat subjective in that I am not completely promoting the death of any given SimDear ENFP  What were your favorite video games growing up and what are your now current favorite video games coolhttpswwwyoutubecomwatchvQyPqT8umzmYIt appears to be too late sadTheres someone out there for everyoneWait I thought confidence was a good thingI just cherish the time of solitude bc i revel within my inner world more whereas most other time i would be workin just enjoy the me time while you can Dont worry people will always be around toYo entp ladies if you are into a complimentary personalitywell hey when your main social outlet is xbox live conversations and even then you verbally fatigue quicklyhttpwwwyoutubecomwatchvgDhy7rdfm14  I really dig the part from 146 to 250httpwwwyoutubecomwatchvmsqXffgh7b8Banned because this thread requires it of meGet high in backyard roast and eat marshmellows in backyard while conversing over something intellectual followed by massages and kisseshttpwwwyoutubecomwatchvMw7eoU3BMbEhttpwwwyoutubecomwatchv4V2uYORhQOkhttpwwwyoutubecomwatchvSlVmgFQQ0TIBanned for too many bs in that sentence How could you Think of the BBanned for watching movies in the corner with the duncesBanned because Health class clearly taught you nothing about peer pressureBanned for a whole host of reasonshttpwwwyoutubecomwatchvIRcrv41hgz41 Two baby deer on left and right munching on a beetle in the middle  2 Using their own blood two cavemen diary todays latest happenings on their designated cave diary wall  3 I see it asa pokemon world  an infj society  everyone becomes an optimist49142httpwwwyoutubecomwatchvZRCEqJFeFMhttpdiscovermagazinecom2012julaug20thingsyoudidntknowaboutdesertsdesertjpghttpoysterignimgscommediawikiapisigncompokemonsilverversiondddDittogifhttpwwwserebiinetpotwdpScizorjpgNot all artists are artists because they draw Its the idea that counts in forming something of your own like a signatureWelcome to the robot ranks person who downed my selfesteem cuz I am not an avid signature artist like herself proudBanned for taking all the room under my bed Ya gotta learn to share with the roacheshttpwwwyoutubecomwatchvw8IgImn57aQBanned for being too much of a thundering grumbling kind of storm yepAhh old high school music I have not heard in ages   httpwwwyoutubecomwatchvdcCRUPCdB1wI failed a public speaking class a few years ago and I have sort of learned what I could do better were I to be in that position again A big part of my failure was just overloading myself with tooI like this persons mentality Hes a confirmed INTJ by the way httpwwwyoutubecomwatchvhGKLIGEc6MMove to the Denver area and start a new life for myself\n",
      "Actually from these results it looks like you are triplewithdrawn 5w4 9w8 4w5  It would appear that you just happen to have strong 2 6 and 7 traitsIts odd that you are associating the whole heart triad with narcissism  Also I would associate Fives with having some antisocial disorder not Eights BTW let us set aside the aspergers and call itSo is my mom  It sometimes annoys me to pieces  My mom Go do insert known todo task here Me I know My mom Well if you know then why do not you go do it  yeah I am not oneIm gonna guess the EJ types are most likely to groupthink but I am not entirely sure  Thoughts  Also which types are least likely to groupthinkVery true  My guess is that 9s are the most idealized type thanks to our high levels of neutrality and inner tranquility but from the perspective of a 9 it is not worth it to idealize any type I hardly ever wear hats if at all  Nice new avatar BTW dealwithitThe ENTJ I am currently living with apparently has used his Se via cooking amid other things I am not 100 sure of  Hes quite nice with Se compared to TeNi alone  Sometimes I kinda wonder howYou have been criticized of having less thanks than posts guiltyA Type 9 looks at the poll  Were so popular proud  Goes and votes for 9  EDIT and 9th vote  What a number crazyIt seems both of the ISPs seem to hold out relationships and get married longer than the ESPs  Also some stats from Personality Page  Highest Percentage Married   From highest toLooks back at thread  Riiiiiiiiiight so why did I create this thread dry  maybe too much like comparing an ISTP to an INTPMaybe an INTP in a TiSi loop  I tend to be nitpicky about my environment as well due to my high SiSo am I and although my 5w6 is close I am a 9w1 I have absolutely no 8 anywhere in my Enneagram type at allNot to mention it feels somewhat disturbing and unreal to do it all the timePSTypes Enneagram Test Results  The Distribution of Your Scores    Type One  15  Type TwoIm probably the one all the way to the right   Am I now weird for looking well crazyMaybe because Enneagram is not as official and popular as MBTI and so it is hard to find broad realworld statsTP and FP are not necessarily associated with a Pe function  Theyre associated with domaux Ti and Fi respectively  Anyway you could divide up the 16 types in a number of ways of four EJ EPNot an SJ but my mom who is an SJ her parents are most likely ESFJ and ISTPWhy  The discussions fine  nothings heated up in hereI used to wear a watch when I was younger but watches tend to irritate my wrist so I stopped  Besides there are other ways for me to tell time when it is necessary  Also beware under1 Words of Affirmation  Meh  2 Gifts  Giving them yep  Receiving them is another story  3 Acts of Service1 Not entirely sure  Theyre mostly about places than anything else  Seldom if at all are there people in my dreams 2 Often like most other things I remember a dream quite vividly but theTheyll probably get along quite well  This is probably true for any XwY with a YwX  BTW if you were wondering the little w between the numbers stands for wing not with it can be unclearIve wondered how common each of the 9 fundamental Enneagram types are  Does anyone know or have a linkFrom typelogiccom  Intuition is tertiaryas the ESFJ matures and as situations arise which call for suspension of criticism Ne is allowed to play  Under the leadership of the Fe functionFrom typelogiccom  As the ESTJ matures and as situations arise which call for suspension of criticism Extraverted iNtuition is allowed to play  Under the leadership of the Te functionAgain sorry if I am harsh  Try not to take everything here personally  If you look inside the parentheses there is my alternate possibility Im not inconsiderate  It turns out I was justI tend to apologize like that too very reasoned out  Maybe it is a TF thingThis obligation of SJs not just ESTJs amid others is what drives me up a wall sometimes  My ESFJ mother has this tendency to do this to me although not to the degree you are encountering  I find this interesting  I never would have guessed that an ESTJ would tell a white lie this in part due to my stereotypical views of ESTJs  As a thinking type I might get thrown off by this andNot to be harsh but speaking of lies you could be lying about your strong STJ  It looks like you are just strong J either that or I could be misreading the scale  So another question whatHeres a third ISTP to add to that  I will say though that because of my autism I have an unusually strong Si  It could happen to an ISFP and the result could be an autistic ISFP with ISFJHere I replied to your thread happy crazy  Anyway I once read that IFPs such as you do not seem to have much patience with types whose preferences are strongly T or J let alone TJMostly Se and Ni  I rule with Ti so I do not need work there  Te and Fi are doing OK and they will develop better in my later life  Ne I just suck at and Fe I am not too good with either  BothP S  Why do you terms and conditions have to be so long  Do you have any idea how discouraging and redundant that is  Ever heard of plain English and not legaleseI need to get out more recurringthoughtofmineSounds like you need to relax  It also sounds like you need to forgive your INTPs detached perceiving nature  Maybe he got quickly boredThanks to everyone here who shared their twosided Se understanding  I remember my high school ENFJ teacher taking us outside during homeroom  Se relief proudFirst impression ESTJ maybe with a strong Se  Certainly underdeveloped in terms of cognitive functions such as Ne and FiIt looks like you have just won out the rest of us either that or you were not being true to yourselfISTJ Cup of coffee ESTJ Judges mallet for lack of a proper name if there is one ISTP Someone fixing up their cool vehicle be it a car motorcycle bicycle or otherwise ISFP An artistThe question is will it be because we humans could control ourselves or because mother nature forced usI would guess this is an Si thing    Given my strong Si I have become like this as well  However being an SP I do not need routine just need to know how it worksI find it fascinating that some ISFJs have higher Te than Ti  It had me wondering if most other SJs have higher Te and Fe than their Ti and Fi  When my ESFJ mother tested out she had higher TeHow nostalgic are you  It would appear that Si nostalgia is fairly strong among you ESFJs being SiauxI wondered where this thread went  has a thought of music and therefore cannot be describedFrom an ISTP with aux Se this is an insightful thread  I have sometimes wondered if ENFJs or ENxJs for that matter experience Se in a hereandnow manner like SPs doI can imagine like any identity relationship that it will be a nice one but eventually will get boring  I sometimes wonder what an ISFPISTP relationship would look likeLets see  Playing games especially ones that integrate the Ti element which few adventurous games seem to do skiing biking hiking climbing procrastinating here not uncommon among us\n",
      "I am finding the lack of me in these posts very alarmingSex can be boring if it is in the same position often For example me and my girlfriend are currently in an environment where we have to creatively use cowgirl and missionary There is not enoughGiving new meaning to Game theoryHello ENTP Grin  Thats all it takes Than we converse and they do most of the flirting while I acknowledge their presence and return their words with smooth wordplay and more cheeky grinsThis  Lack of Balance and Hand Eye CoordinationReal IQ test I score 127 Internet IQ tests are funny I score 140s or higher  Now like the former responses of this thread I will mention that I do not believe in the IQ test Before you banishYou know you are an ENTP when you vanish from a site for a year and a half return and find people are still commenting on your posts and liking your ideasthoughts You know you are an ENTP when youhttpimg188imageshackusimg18864226020d1f9da6944a6b71bbe6jpghttpimgadultdvdtalkcom813a0c6243814cab84c51I over think things sometimes I go by the old Sherlock Holmes quote  Perhaps when a man has special knowledge and special powers like my  own it rather encourages him to seek a complexcheshirewolftumblrcom  So is I D400000  postNot really I have never thought of EI or JP as real functions  I judge myself on what I use I use Ne and Ti as my dominates Fe for emotions and rarely Si I also use Ni due to me strengthYou know though That was ingenious After saying it I really want to try it and see what happens with me playing a first person shooter in the back while we drive around I want to see the look onout of all of them the rock paper one is the best It makes me lol  You guys are lucky D I am really high up on the tumblr systemSo did you hear about that new first person shooter game I have been rocking the hell out of the soundtrack on my auto sound equipment that will shake the heavens We managed to put a couple PS3s inNo The way he connected things was very Ne Ne dominates are just as aware of their environments as Se dominates  Example Shawn Spencer or Patrick Jane Both ENTPsWell charlie I will be the first to admit I do get jealous like you do I chalk it up to my 4w3 heart mixed with my dominate 7w8 7s and 8s both like to be noticed 4s like to be known not the sameD I will upload the same clip with the mic away from my mouth Than you will not hear anything  Ninja Assassin style but with splatterTik Tok is a really great song As long as you can mental block out the singer I love the beat it makes me bouncedropio v1swck0  D Mic really close to my mouth and smokin aces assassins ball playing in the backgroundSociable  extrovert I am an extrovert and I am not sociable Sherlock in the movie was an ENTP Normally he is played as a EXTJ In the books he is an ESTJ  As I said The movie looked good except for it being called sherlock holmeshttpi817photobucketcomalbumszz96kamiooDirtywinchpngOh I never had fear of kissing a guy I will kiss an animal too So there was nothing to vanish Just personal taste and me not liking it  The guy I kissed did not know me It was one of thoseSounds pretty much like my area and what I am going through right now trying to figure out which way I want to take my life I want to do so many things The biggest problem is that I know if I dontD I was operating under the impression that you were female I never looked at your boxy Okay I help out my gay friends all the time and one of them has developed a little crush on me I get redTT You just described me  and I am living the worst nightmare I am trapped in one place with one one around Only dull woods If I was a serial killer this would be the perfect place but sadly ImTBH and biased sounds like a shadowed INFP I think maybe he was hurt and turned ESTJ I can tell because he has some of the typical INFP traits left overChecks list I am sorry It seems that you have came at a bad time Weve already reached our quota of INFJs However being you are female and I like females I will make you a deal I will kick oneIm ANTP Leaning toward E I am easy for both ENTPs and INTPs to identify with I also imagine ENTPs interrogations would go a little bit like Jacks from 24 except more mechanical Rigging up shock treatment equipment in an abandoned building out of an old car batty jumperIt was a compliment  Trust me I am just as psychopathic D except I have emoticons Theyre just weird ones Like laughing when I get hurt or at people running themselves over with their lawn mowerhttpi817photobucketcomalbumszz96kamiooThunderstormpnghttpi817photobucketcomalbumszz96kamiooThunderstormbwpng httpi817photobucketcomalbumszz96kamiooCosmicstormpngNo Its like a theme for where I live and that is why I know it by heart   httpwwwyoutubecomwatchvj5W73HaVQBgand I usual do not leave until the thing ends But in the mean time In between times You work your thing I will work mine D  D I am the MBP Pleasure to meet youDamn need to trust my instincts more I would have been closer I was going to say INFPEXFP Leaning toward S with the way she responded  D My friends even my gay and lesbian ones always come to me for adviceI bow to my entp masters ENTPs are so great If it was not for ENTPs I would not have been able to build what I am building  Duck Duck  Duck  ShotgunWhat Me I never do that  Because its hard to be sad about losing someone you like when you knew you were right and give yourself a big pat on the back because you are awesome and always correctOh you do not have to tell me that most of them are stupid I know this That is why I play with them and it makes me laugh D As I am going to take Neuropsychology and I have a few psychologistD I am a Nightowl I wake up between 67pm and stay awake till 101130amPersonal opinion backed by theory would suggest that INTPs are the most socially difficult While INTJs can be socially indifferent but they will also use social situations if the the need arisesPersonal stocks that I have on my desktop that I have downloaded from random stock sites and stock photobucketsIll tell you when I open photoshop   Glad you like it staticD Thankshttpi817photobucketcomalbumszz96kamiooDeathgrippng httpi817photobucketcomalbumszz96kamiooDeathgripbwpng  Made for a friend Several hours of work I constructed every line by Static httpi817photobucketcomalbumszz96kamiooStatickittenpng  I will have to get to your avatar later if one of my fellow teammates doesntPsychologist do not keep me around long enough to diagnosis me I like to toy with them What I have diagnosis myself with and had a few psychologist friends  a few other friends tell me I have is\n",
      "httpwwwyoutubecomwatchvGCztVAFf0kAlcohol does indeed help To answer the question my IQ is 129 and it was professionally administered But it does not mean anything to meI do not need a number to tell me I am intelligent IShall I play you a song on the worlds smallest violinI really do not get how you guys think she is an introvert Shes said many times about how extroverted she is and she was voted Most Talkative by her high school I can see an introvert beingAssuming morality is absolute can you explain to me the absolute best moral choice out of every situation I am assuming you cannot and on who is authority should we accept these truths It cannot beHello all  I originally joined this site in late 2009 and I lurked for many months before I had just turned 19 and started college  in search of myself and I used this forum to help discover1 Log in after a week or so of not being on here 2 Look at INFJ forum sees that all the new threads are already ones that I have seen and discussed in the past 3 Check the new posts in case II hope everyone realizes the difference between a nice guy and a well nice guywwwyoutubecomwatchvDOX9l4Ys7NYI would retire my account since I do not ever come on here anymore and I do not really care about MBTI anymore but why put an unnecessary restriction on myselfIm not a virgin In some ways I still wish I wasI lost my virginity to someone who I was not in love with The girl I am with right now is and if it were not for that one girl I would be too andIm 21 I am young amiriteHaving the feeling of being alone  Being able to tell a lot about a person just by their energy Its almost like I have known them for years And then if they find this out it freaks them outhttpwwwyoutubecomwatchvW6NdYKFRyMI think it might be more of a biological thing and how you were raised more than how it is based on your type but I can see how type could play a part  As for meyeah I am nowhere near anI suppose I still am but I have lowered my standards so much to where I date people I do not even like probably just to not feel alone I am a little disgusted with myself at the momenthttpwwwyoutubecomwatchvlRNYp1IiUuEobav2eI know what you mean I have had this same problem for the longest time and I too can seem to spark relationships better over text Weird But anyways I have just forced myself to be a little moreI can imagine most INFJs can relate to this   httpwwwyoutubecomwatchvx4XQfDd0iMcDont trust test results That being said I could very well be an INFJ type 3My views have always been that I will never have sex with someone that I know is just gonna lead to sex and that is it Up to this point I have followed through to that because I cannot imagine givingFor me like most of you it comes out very early on but I try to control my tongue for as long as I can so I hardly ever say it at all at least intentionally At the beginning I think it is lessRight now I am debating whether I am an ENTP or INFJ  Sounds very strange but both of them fit meWho does not get a little genocidal every now and thenWalter may actually be an INFJ not an INTJ The reason I say this is that it is VERY clear to me that Gus is an INTJ but there seems to be some variance between them I will be able to explain moreBout damn timeIm a dude so it is kind of embarrassing that I like this show but it is not too bad The only two I know are Lorelai and Rory and they are ESFP and INFJISFJ respectivelyhttp1bpblogspotcom3hyaG4pNj4QSr61wNAIA2IAAAAAAAAAOAcvTDWWktd3Qs400entpposter2jpg  http1bpblogspotcom3hyaG4pNj4QSr62F7f5nyIAAAAAAAAAPAUMAzC3VMPks400ENTPposter2jpghttpwwwyoutubecomwatchv3YOEO7jtIs4I would say you are an ESFP or ENFP probably leaning stronger with ESFP over ENFP  Youre not introverted At allAre you seriously basing your dating life based on some Personality Theory that may or may not be bullshitI seriously hope this is a joke thread Its getting that bad that I cannot tell if someone is trolling or just flat out fucking stupid  As for who is going to winunless Romeny wins theCongratulationsI never made one in the first place sohey  I am not sure why I am even making this as I am probably just gonna retire this account soon anyway but ya know just thought I would make oneYoure typism  Honestly I do not really have a specific type that annoys me Stupid annoys me not type  That being said for the love of FSM and all that is holy I am NEVER EVER EVERhttpwwwyoutubecomwatchvkynUSL8fr4Since this is not the first time you have posted something like this in the two years I have been here it is in all likelihood depression dude I had the same symptoms for oh 7 years or so and when IIm my own partnerEDIT I guess that is what I get for not reading the whole postCan I come tuck you inYoure probably a 3 then  I am a type three myself and I fall into the more reserved category with most people I would still consider myself extroverted but people who talk nonstop actually gethttpwwwyoutubecomwatchvwc4XsRqXQ7wFairly common I am a 3 but a 3w4 not a 3w2Not at all ENTP I would say ISTP or ESTP if that does not workhttpwwwyoutubecomwatchvrAuCN65LaB0Took the words right out of my mouthJust so everyones clear getting a percentage on a MBTI does not mean you are 75 introvert It means you can be pretty confident you are an introvert  Back on topic I am pretty much certain thatYeah same thing happened to me Fuckers  Dear stupid peoplejust because I do not show it does not mean I am not judging you At least you keep me entertained  Excuse my misogyny but fuckTell me about it But ironically I am dating a girl from California who moved over here a while ago and I met her through Ok Cupid Didnt actually expect that thing to produce results but it hasId say Obama is most definitely an ENFJ Speaking to common values but sticking to his own internal vision etc  Sarah PalinESFJ  Ronald ReaganHard to tell Probably ESTP in my opnion \n",
      "Good one     httpswwwyoutubecomwatchvfHiGbolFFGwOf course to which I say I know that is my blessing and my curseDoes being absolutely positive that you and your best friend could be an amazing couple count If so than yes   Or it is more I could be madly in love in case I reconciled my feelings which atNo I didnt thank you for a linkSocalled TiSi loop and it can stem from any current topicobsession can be deadly Its like when you are stuck in your own thoughts and your mind just wanders in circles Feels truly terrible Have you noticed how peculiar vegetation can be All you have to do is look down at the grass dozens of different plant species there    And now imagine that hundreds of years later whenif soilThe Smiths  Never Had No One EverI often find myself spotting faces on marble tileswoodThis 5 yearold sentence is an incredibly accurate and beautiful descriptionI have not visited this website in the last 3 years So whoever reads this and maybe even remembers me which I highly doubt hi  700049  700057When you sit in your garden until 1030 PM writing songs and sing them together with dozens of crickets while playing your acoustic guitarThis is the most INTPish thread I have ever seenI would not be able to look at the painting for the entire life if I knew that I picked it over the human beingI was drawing a background for my animation on which I am working right now  it should have been Mars But I felt obligated to make Mark Watneyx92s postcard from it D  If you read the bookI started to make comics about turtle Gordon and unicorn Chimes  here you can see two first stories httpswwwtumblrcomblogalexxxandraINTJ Recently I started to post my comics about two friends  turtle Gordon and unicorn Chimes Before that I just posted stuff that interested me but from now on I will try to include only my worksProbably we could work together on a new model  I am an expert in abrupt explosions of laughter upon various weird stuff That happens because of peculiar sense of humor  so peculiar that not muchHellooo Nah you can touch it Everyone thinks that it is scared or sad but that is not true  in fact it has an absolutely neutral face And this kitten actually really likes patting and hugs onlyWell kind of As it was already mentioned sometimes because of Ni it is hard to convey complex stuff which pops up in your head in whimsical compilations of shapes and pictures only with wordsI think this kitten would be very appropriate here  376562367034GOOD NIGHT everyone out there Even if for someone there is morning right now  nights always supersede mornings And people say good night in order to meet next day Oh that movie  Its awesome Thank you Hope you had good sleep in the air anyway I am wishing you good night for the next night ahead hopefully it will be on land  Good people deserve good358882  358890Well other people who may be wondering about an issue from the name of the topic will find your response helpful anyway This Finally someone mentioned that I still see creaturesfaces in a maze of various random patterns It can be amusing sometimes  Its a very handy skill when you are boredOh I did not know that What a pity  Why not sacrifice whole supermarket then We can decide which Walmart will be the best I think the biggest one would be greatyippy  Here you go  357002  He thinks that the fire is delicious Should I sacrifice tofu I do not like to waste foodI do not think that the creator of this thread cares what is going on here after 3 years Heh I understand you  With these same given languagesYessss Adventure Time DI get angry quite rarely but when I do it is safer for surrounding people to go somewhere else Its impossible for me to hide or suppress anger the only way to get rid of this feeling is to burstIve never liked it  Anything fake is bad actuallyHugs should be given only to chosen ones Chosen There are quite few of them though349890Yup you are doing it right httpalexxxandratumblrcom256818Of course it is not very comfortable  But Human race survived thankfully womens ability to give birth to other human beings It worked for thousands of years Why change it Besides there areThat happens And it occurs because most often people use results of extremely precise and elaborate online tests as a basis of determining ones type      Both visual and language arts more246386I study graphic design now which I really enjoy What is interesting about this field is that the ability to generate ideas and solve problems is much more important than possession of a specificAlexxxandra97  DeviantArt236994httpwwwyoutubecomwatchv2Nkcn8m9M0MI am always ready to discipline to intimidate to be precise my siblings offenderWorld domination Shooting people in the head Why  Oh right INTJs always must be characterised only with these words     I want to show so badly my reaction to this 221226218106ISTP   httpwwwyoutubecomwatchv7ghqoYxmaUE\n",
      "As an ENFJ how ambitious are you I am fairly ambitious I have two undergrad degrees SociologyReligious Studies  in Education in ESLSecondary Education I left about a 3 year gap between bothWelcome  I find that writing my thoughts in freeflow about the situation helps me cope with separating my feelings with the other person I also remind myself that I will not allow anotherhealthy ways  workout regularly yoga talk to my boyfriendfriends Maintain a regular sleep schedule  unhealthy  chocolate more chocolate Sometimes other unhealthy foods It is going excellent Are relationship is building an amazing foundation We love to express our feelings for each other through poetry my preference through drawings  art his preference WeHey INFPs  barely post anymore I just wanted to share that I met my INFP boyfriend on Feb 4th of this year We met through a dating app We have never been more in love  we have both described ourIts been six dates and I found myself an INFP he took the test  and yes he is an INFP The connection is just so amazing and intense right now it even scares me  He told me he has neverI am curious what you would like Yeah we ENFJs are unique Wonder if this has to do with enneagramlove stylesI do not have a ton of info as I have not met this guy in person  only chatted with him yesterday for the first time online Heres what I do know  according to his profile he is looking forHere are some signs  they tend to talk faster  they will have a tougher time filling in gaps in the conversation sometimes they will not initiate the interaction get a bit more shy or wait tillDislike my INFP bestfriends sister We only just met this month I do not know I felt strangely upset about why I do not like her sister and guilty The girl is so selfabsorbed  does things thatYeah I hear you there You just never know that you will fall in love with someone It does come out of nowhereWell put I am borrowing this one in the futureHere are some ideas anything handwritten or created by hand so original this can range from poetry a cleverly created time line of your relationship with photos in form of a YouTube clip tooI totally relate to what you said thereYes I am with you I find it very hard to fall in love Some people have been known to mistake my friendly extrovert behaviour as some kind of romantic interest Must be going out of style to takeThanks for the reply I agree with what you have said I would actually like to dump and bailout on her at this pointThat is what she said However her friend reporting me to HR would not have any affect on me I do not work there I am simply an individual who applied for a grant which is govt money This moneythank you sane adviceHey I am working with INFP on a community project Without going into too many details a number of people have dropped the ball on her including the Illustrator who was working with her an INTPhttpswwwyoutubecomwatchvOntHieZofGA    So good James is also a Youth WorkerMusician the nonlyrical version of the song is amazing any howhttpswwwyoutubecomwatchvgXWD1HjWI8Mampindex35amplistPL940F90747B3D4A  F3  Throwback to 1995Reminds me of the barista at my local Starbucks Still checking if he is going to do some more rad art work and what is next in his life lolhttpswwwyoutubecomwatchvZpDQJnI4OhU  Bono is rumoured to be an ENFJ as well yeah that is the correct way to put I felt my post was rather unbalanced The one male ENFP I know is an excellent photographer  very reliable when it comes to delievering his work I think it wasYes that is what I was conveying Glad it made sense Really tongue  I think about the 2 ENFP friends I have well one is not a friend anymore by virtue of the total lack of effort she puts in our friendship They amass so many friends very quicklyIs it me or do other ENFJs have trouble opening up I find it takes forever for me to actual talk about myself as a person unless someone asks direct questions  but who the heck does that PMostly jealous of their social acumen They walk into a room  trump all the efforts of other people namely ENFJs through their charisma and largerthanlife personalities  I find they say alotI agree with what Gilly said  point on   I find that people simply do not directly ask questions about me I think it is refreshing for ENFJs to be able to talk about themselves We value1 A big party that will have mostly acquaintances and strangers There is alcohol food and music but the point is to mainly talk to others  I would likely be tired thinking about this eventpart in bold  Something tells me that you feel disappointed about this or at least confused that he wanted to stayintouch but chooses not to initiate contact If he is not choosing to contact youThanks for sharing Gilly   Well I believe in my 30s I started to care less about fitting in and pleasing other peoples whims particularly people who wanted me to change I also became muchI did not read the link yet I had a best friend that is a ESTJ Very controlling and unable to accept new ways of doing things It was her way or the highway I also felt she cared too much aboutThanks for the reply I like how you helped me work that out ENFJ brotherHave you tried an I feel statement Basically you would explain how you feel without implicating him So you could say something like I feel  frustrated rejected shut downhttpswwwyoutubecomwatchvGKzlvxrEpUNorina yes good observation There were other reasons he did not want to share with me I often wonder why he would not want to I typically do not see ESFJs as very private people   Thanks forCouldnt agree more with all that is posted here Dont over complicate things Start with FB  then a coffee before moving on to something more Honestly if she does not want to talk to you sheYes during times of frustration I feel the same Before I reach out to someone I ask myself if they are not there for me when I need them will I be ok with helping them now This help me putQuestion for my ENFJ brothers and sisters  how do you get over a breakup especially with someone you still have great memories with and truly loved I still my ex ESFJ boyfriend and it is beenI would not worry at all He also told you not to worry  trust him The thing is he knows to know she needs to own her feelings and that he is not responsible for them It is important that youWhen I look back on when I met the ESFJ I once dated he was immediately affectionate with me Reached for my hand kissed me  very obvious When we spoke he listened to me intently  asked me some new picture of me By new it is a year old but I have not changed in yearsJust watched the trailer I cannot decide from the itybityclip if he is an ENFJ Looks like an awesome movieMr Selfridge my newest love Fresh Prince of Bel  Air Star Trek the Next Generation thanks to my INFP sister Breaking Bad whole season is fantastic Top Chef  I do not have a lot of time toIts been a while ENFJs    I am curious to know how your views on relationships romantic familial friendships colleagues has changed over the course of your life A broad question that canNot as popular as ENFPs though I find that if their is an ENFP in the room they will outshine us People just gravitate towards them   I think if we need to take care of the needs of the groupIt used to bother me in the past but knowing that I dislike not hate I cannot say I hate anyone some people I am comfortable knowing that others would also dislike me I used to have a sense ofGreat question   I had a little school on the block I would make worksheets buy all kinds of supplies for my stickers  fix the booboos of the little kids Is it surprising that I am aNormally I do not like beards on men However when it comes to Mr Selfridge I would make an exception It looks really sexy Well groomed and suits him well My ex also looked very hot with a beard \n"
     ]
    }
   ],
   "source": [
    "# With URL\n",
    "\n",
    "training_data_after_removing_punct_contraction = remove_punctuation(remove_contraction(training_posts))\n",
    "testing_data_after_removing_punct_contraction = remove_punctuation(remove_contraction(testing_posts))\n",
    "for i in range(0,3):\n",
    "  print(training_data_after_removing_punct_contraction[i])\n",
    "  print(testing_data_after_removing_punct_contraction[i])"
   ]
  },
  {
   "cell_type": "code",
   "execution_count": 14,
   "metadata": {
    "id": "kOyrY2FiB_Lv"
   },
   "outputs": [],
   "source": [
    "# Test with URL\n",
    "training_data_with_url = tokenize_data(training_data_after_removing_punct_contraction)\n",
    "testing_data_with_url = tokenize_data(testing_data_after_removing_punct_contraction)"
   ]
  },
  {
   "cell_type": "code",
   "execution_count": 15,
   "metadata": {
    "id": "bYej39MKBPLa"
   },
   "outputs": [],
   "source": [
    "# Test without URL\n",
    "training_data_without_url = tokenize_data(training_data_after_removing_url_punct_contraction)\n",
    "testing_data_without_url = tokenize_data(testing_data_after_removing_punct_contraction)"
   ]
  },
  {
   "cell_type": "code",
   "execution_count": 16,
   "metadata": {
    "id": "71PPekEwL9Wu"
   },
   "outputs": [],
   "source": [
    "# After comparing corpus with URL and without URL, I choose corpus without URL\n",
    "# Combination of  1&2 (Removing Stopwords and stemming)\n",
    "training_token = training_data_without_url\n",
    "testing_token = testing_data_without_url\n",
    "\n",
    "training_data_1_2 = stemming(remove_stop_words(training_token))\n",
    "testing_data_1_2 = stemming(remove_stop_words(testing_token))"
   ]
  },
  {
   "cell_type": "code",
   "execution_count": 17,
   "metadata": {
    "id": "-PPJoAGnMtVW"
   },
   "outputs": [],
   "source": [
    "# Combination of  3&4 (Removing numbers and lemmatisation)\n",
    "training_data_3_4 = lemmatisation(remove_numbers(training_token))\n",
    "testing_data_3_4 = lemmatisation(remove_numbers(testing_token))"
   ]
  },
  {
   "cell_type": "code",
   "execution_count": 18,
   "metadata": {
    "id": "RSbr86JQM8nt"
   },
   "outputs": [],
   "source": [
    "# 4 kinds of corpus should be tested\n",
    "# with URL\n",
    "corpus_with_url = training_data_with_url + testing_data_with_url\n",
    "# without URL\n",
    "corpus_without_url = training_data_without_url + testing_data_without_url\n",
    "# Remove stopwords and stemming\n",
    "corpus_1_2 = training_data_1_2 + testing_data_1_2\n",
    "# Remove numbers and lemmatisation\n",
    "corpus_3_4 = training_data_3_4 + testing_data_3_4\n"
   ]
  },
  {
   "cell_type": "code",
   "execution_count": 19,
   "metadata": {
    "id": "4YpS57gmmbNj"
   },
   "outputs": [],
   "source": [
    "# *************************************************************************\n",
    "# !!!!!!Only change here to test different pre-processing techniques\n",
    "# *************************************************************************\n",
    "corpus = corpus_1_2\n",
    "training_data_after_preprocessing = training_data_1_2\n",
    "testing_data_after_preprocessing = testing_data_1_2"
   ]
  },
  {
   "cell_type": "code",
   "execution_count": 20,
   "metadata": {
    "id": "3N-FcYSiPpQe"
   },
   "outputs": [],
   "source": [
    "# Get the vocabulary list from the training data for creating the lookup table later\n",
    "# In practice, we only use the vocabulary from training data\n",
    "\n",
    "def generate_word_list_dict(corpus):\n",
    "  word_set = set() \n",
    "  for sent in corpus:\n",
    "      for word in sent:\n",
    "          word_set.add(word)\n",
    "\n",
    "  # Normally we add the special tokens for representing the padding and unknown words separately\n",
    "  # Sometimes we can also use same token to present padding and unknown words if we don't have to differentiate them\n",
    "  word_set.add('[PAD]')\n",
    "  word_set.add('[UNKNOWN]')\n",
    "\n",
    "  word_list = list(word_set) \n",
    "\n",
    "  # Although in some python versions, converting a set to list will return a ordered result, \n",
    "  # It is still highly recommended that you sort this list to ensure the reproducibility of your code\n",
    "  word_list.sort()\n",
    "\n",
    "  word_index = {}\n",
    "  ind = 0\n",
    "  for word in word_list:\n",
    "      word_index[word] = ind\n",
    "      ind += 1\n",
    "  return word_list, word_index\n",
    "\n",
    "word_list, word_index = generate_word_list_dict(corpus)"
   ]
  },
  {
   "cell_type": "code",
   "execution_count": 21,
   "metadata": {
    "id": "PyQcPx4hmmoV"
   },
   "outputs": [],
   "source": [
    "# Convert the sentences to the word index that aligns with the lookup table\n",
    "\n",
    "len_list = [len(s) for s in training_data_after_preprocessing]\n",
    "seq_length = max(len_list)\n",
    "\n",
    "# Padding and encoding\n",
    "def encode_and_add_padding(sentences, seq_length, word_index):\n",
    "    sent_encoded = []\n",
    "    for sent in sentences:\n",
    "        temp_encoded = [word_index[word] if word in word_index else word_index['[UNKNOWN]'] for word in sent]\n",
    "        if len(temp_encoded) < seq_length:\n",
    "            temp_encoded += [word_index['[PAD]']] * (seq_length - len(temp_encoded))\n",
    "        sent_encoded.append(temp_encoded)\n",
    "    return sent_encoded\n",
    "\n",
    "sent_encoded = encode_and_add_padding(training_data_after_preprocessing, seq_length, word_index)\n",
    "test_encoded = encode_and_add_padding(testing_data_after_preprocessing, seq_length, word_index)"
   ]
  },
  {
   "cell_type": "code",
   "execution_count": 22,
   "metadata": {
    "id": "3CLXvHatnQBG"
   },
   "outputs": [],
   "source": [
    "from sklearn.preprocessing import LabelEncoder\n",
    "\n",
    "lEnc = LabelEncoder()\n",
    "lEnc.fit(training_labels)\n",
    "label_encoded= lEnc.transform(training_labels)\n",
    "\n",
    "lEnc.fit(testing_labels)\n",
    "label_encoded_testing = lEnc.transform(testing_labels)"
   ]
  },
  {
   "cell_type": "markdown",
   "metadata": {
    "id": "6sAZNIg5927R"
   },
   "source": [
    "# 2 - Input Representation\n"
   ]
  },
  {
   "cell_type": "markdown",
   "metadata": {
    "id": "daDvAftceIvr"
   },
   "source": [
    "## 2.1. Word Embedding Construction"
   ]
  },
  {
   "cell_type": "code",
   "execution_count": 23,
   "metadata": {
    "id": "Jw8I1QBk-EhG"
   },
   "outputs": [],
   "source": [
    "# CBOW\n",
    "\n",
    "from gensim.models import Word2Vec\n",
    "wv_cbow_model = Word2Vec(sentences=corpus, size=200, window=5, min_count=5, workers=2, sg=0)"
   ]
  },
  {
   "cell_type": "code",
   "execution_count": 24,
   "metadata": {
    "id": "aUVHXh7PxaD5"
   },
   "outputs": [],
   "source": [
    "# SG\n",
    "\n",
    "wv_sg_model = Word2Vec(sentences=corpus, size=200, window=5, min_count=5, workers=2, sg=1)"
   ]
  },
  {
   "cell_type": "markdown",
   "metadata": {
    "id": "LNys5HOdISK-"
   },
   "source": [
    "## 2.2. Pretrained Word Embedding"
   ]
  },
  {
   "cell_type": "code",
   "execution_count": 25,
   "metadata": {
    "colab": {
     "base_uri": "https://localhost:8080/"
    },
    "id": "Ae8i7Z2kIef-",
    "outputId": "d911657e-d90e-4794-da5d-b10ebc130f73"
   },
   "outputs": [
    {
     "name": "stdout",
     "output_type": "stream",
     "text": [
      "[==================================================] 100.0% 387.1/387.1MB downloaded\n"
     ]
    }
   ],
   "source": [
    "# Glove-twitter-100\n",
    "\n",
    "import gensim.downloader as api\n",
    "word_pretrained_model_gt = api.load(\"glove-twitter-100\")"
   ]
  },
  {
   "cell_type": "code",
   "execution_count": 26,
   "metadata": {
    "colab": {
     "base_uri": "https://localhost:8080/"
    },
    "id": "0bbwfP2JxpuI",
    "outputId": "bc56e74f-7ae7-45bb-b787-0eb2a4400941"
   },
   "outputs": [
    {
     "name": "stdout",
     "output_type": "stream",
     "text": [
      "[==================================================] 100.0% 128.1/128.1MB downloaded\n"
     ]
    }
   ],
   "source": [
    "# Glove-wiki-gigaword-100\n",
    "\n",
    "word_pretrained_model_gwg = api.load(\"glove-wiki-gigaword-100\")"
   ]
  },
  {
   "cell_type": "code",
   "execution_count": null,
   "metadata": {
    "id": "tCqbm-bKCApP"
   },
   "outputs": [],
   "source": [
    "# ****************************************************************************************************************\n",
    "# !!!!!!Only change here to test different combination of Word2Vec model, choose one of them to run.\n",
    "# The first block is testing single Word2Vec, the second is testing their combination\n",
    "# ****************************************************************************************************************"
   ]
  },
  {
   "cell_type": "code",
   "execution_count": 29,
   "metadata": {
    "colab": {
     "base_uri": "https://localhost:8080/"
    },
    "id": "eMqi3WVH1sRz",
    "outputId": "cb4ff0a8-74d9-446f-a396-345eba60fa5e"
   },
   "outputs": [
    {
     "name": "stderr",
     "output_type": "stream",
     "text": [
      "/usr/local/lib/python3.7/dist-packages/ipykernel_launcher.py:10: DeprecationWarning: Call to deprecated `__contains__` (Method will be removed in 4.0.0, use self.wv.__contains__() instead).\n",
      "  # Remove the CWD from sys.path while we load stuff.\n",
      "/usr/local/lib/python3.7/dist-packages/ipykernel_launcher.py:11: DeprecationWarning: Call to deprecated `__getitem__` (Method will be removed in 4.0.0, use self.wv.__getitem__() instead).\n",
      "  # This is added back by InteractiveShellApp.init_path()\n"
     ]
    }
   ],
   "source": [
    "# Here I test different Word2Vec Models\n",
    "my_model = wv_cbow_model\n",
    "\n",
    "import numpy as np\n",
    "emb_dim = my_model.vector_size\n",
    "\n",
    "# Embedding lookup table via concatenation\n",
    "emb_table = []\n",
    "for i, word in enumerate(word_list):\n",
    "    if word in my_model:\n",
    "        emb_table.append(my_model[word])\n",
    "    else:\n",
    "        emb_table.append([0]*emb_dim)\n",
    "emb_table = np.array(emb_table)"
   ]
  },
  {
   "cell_type": "markdown",
   "metadata": {
    "id": "T0ap96aeGlIk"
   },
   "source": [
    "## 2.3. Input Concatenation"
   ]
  },
  {
   "cell_type": "code",
   "execution_count": 28,
   "metadata": {
    "colab": {
     "base_uri": "https://localhost:8080/"
    },
    "id": "i2CUCL1cGlI2",
    "outputId": "f2b3bba7-f50b-4410-bdd4-bd95ffba0bf8"
   },
   "outputs": [
    {
     "name": "stderr",
     "output_type": "stream",
     "text": [
      "/usr/local/lib/python3.7/dist-packages/ipykernel_launcher.py:11: DeprecationWarning: Call to deprecated `__contains__` (Method will be removed in 4.0.0, use self.wv.__contains__() instead).\n",
      "  # This is added back by InteractiveShellApp.init_path()\n",
      "/usr/local/lib/python3.7/dist-packages/ipykernel_launcher.py:12: DeprecationWarning: Call to deprecated `__getitem__` (Method will be removed in 4.0.0, use self.wv.__getitem__() instead).\n",
      "  if sys.path[0] == '':\n"
     ]
    }
   ],
   "source": [
    "# Here I test different combinations of Word2Vec Model\n",
    "my_model = wv_sg_model\n",
    "pre_trained_model = word_pretrained_model_gwg\n",
    "\n",
    "import numpy as np\n",
    "emb_dim = my_model.vector_size + pre_trained_model.vector_size\n",
    "\n",
    "# Embedding lookup table via concatenation\n",
    "emb_table = []\n",
    "for i, word in enumerate(word_list):\n",
    "    if word in my_model and word in pre_trained_model:\n",
    "        emb_table.append(np.concatenate((my_model[word],pre_trained_model[word]),0))\n",
    "    else:\n",
    "        emb_table.append([0]*emb_dim)\n",
    "emb_table = np.array(emb_table)"
   ]
  },
  {
   "cell_type": "markdown",
   "metadata": {
    "id": "LIu_lkJwQ55g"
   },
   "source": [
    "# 3 - Model Implementation"
   ]
  },
  {
   "cell_type": "markdown",
   "metadata": {
    "id": "DpYCL17JKZxl"
   },
   "source": [
    "### 3.1. Build Sequence Model (Bi-directional model)"
   ]
  },
  {
   "cell_type": "code",
   "execution_count": 32,
   "metadata": {
    "id": "ie9xluvZoR6U"
   },
   "outputs": [],
   "source": [
    "from sklearn.metrics import f1_score\n",
    "# Setup for the modeling and training\n",
    "vocab_size = len(word_list)\n",
    "unique_labels = np.unique(training_labels)\n",
    "n_class = len(unique_labels)\n",
    "n_hidden = 32\n",
    "# batch_size\n",
    "batch_size = 128\n",
    "\n",
    "# Set hyperparameters\n",
    "# change here to test different epoch number\n",
    "learning_rate = 0.01\n",
    "total_epoch = 10"
   ]
  },
  {
   "cell_type": "code",
   "execution_count": null,
   "metadata": {
    "id": "yeHSq9-uCYnc"
   },
   "outputs": [],
   "source": [
    "# ****************************************************************************************************************\n",
    "# !!!!!!Only change here to test different Seq2Seq model, choose one of them to run.\n",
    "# The first block is testing Bi-LSTM, the second is testing Bi-RNN\n",
    "# ****************************************************************************************************************"
   ]
  },
  {
   "cell_type": "code",
   "execution_count": 33,
   "metadata": {
    "id": "13eCtR_SLUG6"
   },
   "outputs": [],
   "source": [
    "# Build Bi-LSTM model\n",
    "\n",
    "\n",
    "import torch\n",
    "import torch.nn as nn\n",
    "import torch.nn.functional as F\n",
    "import torch.optim as optim\n",
    "\n",
    "\n",
    "device = torch.device(\"cuda\" if torch.cuda.is_available() else \"cpu\")\n",
    "\n",
    "# Define the model\n",
    "class Bi_LSTM_Emb(nn.Module):\n",
    "    def __init__(self):\n",
    "        super(Bi_LSTM_Emb, self).__init__()\n",
    "        self.emb = nn.Embedding(vocab_size, emb_dim)\n",
    "        # [IMPORTANT] Initialize the Embedding layer with the lookup table we created \n",
    "        self.emb.weight.data.copy_(torch.from_numpy(emb_table))\n",
    "        # Optional: set requires_grad = False to make this lookup table untrainable\n",
    "        self.emb.weight.requires_grad = False\n",
    "\n",
    "        self.lstm = nn.LSTM(emb_dim, n_hidden, batch_first =True, bidirectional=True)\n",
    "        self.linear = nn.Linear(n_hidden*2, n_class)\n",
    "\n",
    "    def forward(self, x):\n",
    "        # Get the embeded tensor\n",
    "        x = self.emb(x)        \n",
    "        # we will use the returned h_n of shape (num_layers * num_directions, batch, hidden_size): tensor containing the hidden state for t = seq_len.\n",
    "        # details of the outputs from nn.LSTM can be found from: https://pytorch.org/docs/stable/generated/torch.nn.LSTM.html\n",
    "        lstm_out, (h_n, c_n) = self.lstm(x)\n",
    "        # concat the last hidden state from two direction\n",
    "        hidden_out = torch.cat((h_n[0,:,:],h_n[1,:,:]),1)\n",
    "        z = self.linear(hidden_out)\n",
    "        return z"
   ]
  },
  {
   "cell_type": "code",
   "execution_count": 116,
   "metadata": {
    "id": "eWL1Dg5FMouv"
   },
   "outputs": [],
   "source": [
    "# Build Bi-RNN model\n",
    "\n",
    "import torch\n",
    "import torch.nn as nn\n",
    "import torch.nn.functional as F\n",
    "import torch.optim as optim\n",
    "\n",
    "\n",
    "device = torch.device(\"cuda\" if torch.cuda.is_available() else \"cpu\")\n",
    "\n",
    "# Define the model\n",
    "class Bi_RNN_Emb(nn.Module):\n",
    "    def __init__(self):\n",
    "        super(Bi_RNN_Emb, self).__init__()\n",
    "        self.emb = nn.Embedding(vocab_size, emb_dim)\n",
    "        # [IMPORTANT] Initialize the Embedding layer with the lookup table we created \n",
    "        self.emb.weight.data.copy_(torch.from_numpy(emb_table))\n",
    "        # Optional: set requires_grad = False to make this lookup table untrainable\n",
    "        self.emb.weight.requires_grad = False\n",
    "\n",
    "        self.rnn = nn.RNN(emb_dim, n_hidden, batch_first =True, bidirectional=True)\n",
    "        self.linear = nn.Linear(n_hidden*2, n_class)\n",
    "\n",
    "    def forward(self, x):\n",
    "        # Get the embeded tensor\n",
    "        x = self.emb(x)        \n",
    "        # we will use the returned h_n of shape (num_layers * num_directions, batch, hidden_size): tensor containing the hidden state for t = seq_len.\n",
    "        # details of the outputs from nn.LSTM can be found from: https://pytorch.org/docs/stable/generated/torch.nn.LSTM.html\n",
    "        rnn_out, h_n = self.rnn(x)\n",
    "        # concat the last hidden state from two direction\n",
    "        hidden_out = torch.cat((h_n[0,:,:],h_n[1,:,:]),1)\n",
    "        z = self.linear(hidden_out)\n",
    "        return z"
   ]
  },
  {
   "cell_type": "markdown",
   "metadata": {
    "id": "6BaOiaGRLW7R"
   },
   "source": [
    "### 3.2. Train Sequence Model (Bi-directional model)"
   ]
  },
  {
   "cell_type": "code",
   "execution_count": 34,
   "metadata": {
    "colab": {
     "base_uri": "https://localhost:8080/"
    },
    "id": "lVQnUSX1LZ6C",
    "outputId": "4f614123-f023-40d4-b948-faa54c2d601b"
   },
   "outputs": [
    {
     "name": "stdout",
     "output_type": "stream",
     "text": [
      "Epoch: 1, loss: 40.38344\n",
      "Epoch: 2, loss: 36.41560\n",
      "Epoch: 3, loss: 34.31927\n",
      "Epoch: 4, loss: 28.85502\n",
      "Epoch: 5, loss: 24.12329\n",
      "Epoch: 6, loss: 20.89039\n",
      "Epoch: 7, loss: 18.98196\n",
      "Epoch: 8, loss: 17.70482\n",
      "Epoch: 9, loss: 16.24234\n",
      "Epoch: 10, loss: 14.97380\n",
      "F1 Score: 0.80346\n",
      "Finished Training\n"
     ]
    }
   ],
   "source": [
    "# Move the model to GPU\n",
    "\n",
    "model = Bi_LSTM_Emb().to(device)\n",
    "# model = Bi_RNN_Emb().to(device)\n",
    "\n",
    "# Loss function and optimizer\n",
    "criterion = nn.CrossEntropyLoss()\n",
    "optimizer = optim.Adam(model.parameters(), lr=learning_rate)\n",
    "\n",
    "# Preparing input\n",
    "\n",
    "input_torch = torch.from_numpy(np.array(sent_encoded)).to(device)\n",
    "targe_torch = torch.from_numpy(np.array(label_encoded)).view(-1).to(device)\n",
    "\n",
    "for epoch in range(total_epoch):  \n",
    "    batch = 0\n",
    "    loss_sum = 0\n",
    "    for ind in range(0, len(input_torch), batch_size):\n",
    "      \n",
    "      # Set the flag to training\n",
    "      model.train()\n",
    "      # forward + backward + optimize\n",
    "      optimizer.zero_grad()\n",
    "      outputs = model(input_torch[ind:min(ind+batch_size, len(input_torch))]) \n",
    "      loss = criterion(outputs, targe_torch[ind:min(ind+batch_size, len(input_torch))])\n",
    "      loss.backward()\n",
    "      optimizer.step()\n",
    "      batch += 1\n",
    "      loss_sum += loss.item()\n",
    "    print('Epoch: %d, loss: %.5f' %(epoch + 1, loss_sum))\n",
    "    if((epoch + 1) % 10 == 0):\n",
    "      predict = torch.argmax(model(torch.from_numpy(np.array(test_encoded))), -1)\n",
    "      f1 = f1_score(label_encoded_testing, predict)\n",
    "      print('F1 Score: %.5f' %(f1))\n",
    "\n",
    "print('Finished Training')"
   ]
  },
  {
   "cell_type": "code",
   "execution_count": 36,
   "metadata": {
    "colab": {
     "base_uri": "https://localhost:8080/"
    },
    "id": "3zxelXKULLxp",
    "outputId": "a1d79580-e098-43cb-955e-53da0c3758dd"
   },
   "outputs": [
    {
     "data": {
      "text/plain": [
       "Bi_LSTM_Emb(\n",
       "  (emb): Embedding(291438, 200)\n",
       "  (lstm): LSTM(200, 32, batch_first=True, bidirectional=True)\n",
       "  (linear): Linear(in_features=64, out_features=2, bias=True)\n",
       ")"
      ]
     },
     "execution_count": 36,
     "metadata": {},
     "output_type": "execute_result"
    }
   ],
   "source": [
    "torch.save(model, 'mymodel.pt')\n",
    "the_saved_model = torch.load('mymodel.pt')\n",
    "the_saved_model.eval()"
   ]
  },
  {
   "cell_type": "code",
   "execution_count": 38,
   "metadata": {
    "colab": {
     "base_uri": "https://localhost:8080/"
    },
    "id": "-TIUgzojMA2k",
    "outputId": "40dcb831-268a-4462-c18e-e246f417d259"
   },
   "outputs": [
    {
     "name": "stdout",
     "output_type": "stream",
     "text": [
      "tensor([1, 0, 0, 0, 1, 0, 0, 0, 1, 1, 0, 0, 0, 0, 1, 0, 1, 0, 1, 1, 1, 0, 1, 0,\n",
      "        0, 0, 0, 1, 1, 0, 0, 1, 1, 1, 1, 1, 1, 0, 0, 0, 0, 0, 1, 1, 0, 1, 0, 1,\n",
      "        0, 0, 0, 1, 0, 0, 0, 1, 1, 0, 0, 0, 0, 1, 0, 1, 1, 1, 0, 0, 0, 0, 1, 0,\n",
      "        1, 0, 1, 1, 1, 1, 1, 1, 0, 1, 1, 0, 1, 1, 1, 1, 1, 0, 0, 0, 1, 0, 1, 0,\n",
      "        1, 0, 0, 1, 0, 1, 0, 1, 1, 0, 1, 1, 1, 1, 1, 0, 1, 0, 1, 0, 1, 1, 0, 0,\n",
      "        1, 1, 0, 1, 1, 0, 1, 1, 1, 0, 1, 1, 0, 1, 0, 0, 0, 1, 0, 1, 0, 0, 0, 1,\n",
      "        0, 1, 0, 0, 0, 1, 1, 1, 0, 1, 0, 1, 0, 0, 1, 0, 0, 1, 1, 1, 1, 1, 0, 0,\n",
      "        0, 1, 0, 1, 0, 1, 0, 0, 1, 1, 0, 1, 1, 1, 1, 0, 1, 1, 1, 1, 0, 0, 0, 1,\n",
      "        0, 0, 1, 0, 1, 0, 0, 0, 1, 1, 0, 1, 0, 0, 0, 0, 0, 1, 1, 0, 1, 1, 1, 0,\n",
      "        0, 1, 0, 0, 1, 1, 0, 0, 0, 0, 1, 1, 1, 0, 0, 1, 0, 0, 0, 0, 0, 1, 0, 1,\n",
      "        0, 1, 0, 1, 1, 1, 0, 0, 0, 1, 0, 0, 1, 1, 1, 1, 0, 0, 0, 0, 0, 0, 1, 0,\n",
      "        1, 0, 0, 0, 0, 0, 0, 0, 1, 1, 0, 1, 0, 0, 0, 0, 0, 1, 0, 1, 0, 1, 1, 0,\n",
      "        1, 0, 0, 0, 1, 0, 0, 1, 1, 0, 1, 0, 0, 0, 0, 1, 0, 0, 1, 0, 1, 1, 0, 1,\n",
      "        0, 1, 1, 0, 0, 1, 1, 1, 1, 0, 0, 1, 0, 0, 0, 1, 1, 1, 1, 0, 0, 0, 0, 1,\n",
      "        0, 1, 1, 0, 0, 1, 1, 1, 0, 1, 1, 0, 0, 1, 1, 1, 1, 0, 1, 0, 1, 0, 0, 0,\n",
      "        1, 0, 1, 0, 1, 0, 0, 1, 0, 1, 0, 0, 0, 1, 1, 0, 0, 1, 1, 0, 1, 0, 0, 1,\n",
      "        1, 0, 0, 0, 0, 0, 0, 1, 0, 1, 1, 1, 1, 1, 0, 1, 0, 0, 1, 1, 1, 0, 0, 1,\n",
      "        1, 1, 0, 0, 1, 0, 0, 1, 0, 0, 1, 1, 1, 0, 1, 1, 0, 0, 1, 0, 1, 0, 1, 1,\n",
      "        0, 0, 1, 0, 0, 0, 0, 0, 0, 0, 1, 1, 0, 1, 0, 1, 1, 1, 0, 1, 1, 0, 1, 0,\n",
      "        1, 0, 0, 1, 1, 0, 0, 0, 0, 1, 0, 0, 1, 0, 0, 0, 1, 1, 1, 0, 1, 1, 1, 1,\n",
      "        1, 1, 0, 1, 1, 0, 1, 1, 0, 1, 1, 1, 1, 1, 0, 0, 1, 1, 1, 0, 1, 1, 0, 0,\n",
      "        1, 1, 0, 0, 1, 0, 0, 0, 1, 0, 0, 0, 1, 1, 1, 0, 1, 0, 0, 0, 0, 0, 0, 0,\n",
      "        0, 1, 0, 0, 0, 0, 0, 1, 1, 0, 0, 0, 0, 1, 1, 0, 1, 1, 1, 0, 1, 1, 0, 0,\n",
      "        1, 0, 0, 0, 0, 0, 0, 1, 0, 1, 0, 0, 0, 0, 1, 0, 1, 1, 0, 1, 1, 0, 0, 1,\n",
      "        0, 0, 0, 0, 1, 0, 0, 1, 0, 0, 0, 0, 0, 0, 1, 0, 1, 1, 0, 0, 1, 1, 0, 1,\n",
      "        0, 1, 1, 1, 1, 0, 0, 1, 1, 1, 0, 1, 0, 0, 0, 1, 1, 1, 0, 1, 0, 0, 1, 1,\n",
      "        0, 0, 1, 1, 0, 0, 0, 1, 1, 0, 0, 0, 0, 0, 0, 0, 1, 1, 1, 0, 1, 0, 0, 1,\n",
      "        0, 0, 0, 0, 0, 0, 1, 1, 1, 1, 0, 1, 0, 0, 1, 0, 1, 0, 1, 1, 1, 0, 0, 1,\n",
      "        0, 0, 0, 1, 0, 0, 1, 1, 0, 0, 1, 1, 1, 0, 0, 0, 1, 0, 1, 1, 0, 1, 1, 0,\n",
      "        1, 0, 1, 1, 0, 1, 1, 0, 0, 1, 1, 0, 1, 1, 1, 1, 0, 0, 1, 0, 0, 0, 1, 0,\n",
      "        1, 1, 1, 0, 1, 1, 1, 0, 0, 1, 1, 0, 1, 1, 0, 1, 1, 1, 0, 0, 1, 1, 1, 0,\n",
      "        0, 0, 0, 1, 0, 1, 1, 0, 1, 1, 0, 0, 0, 0, 1, 0, 0, 0, 0, 1, 0, 1, 1, 1,\n",
      "        1, 1, 1, 1, 1, 1, 1, 0, 0, 1, 0, 0, 0, 1, 0, 0, 0, 1, 1, 1, 1, 1, 1, 1,\n",
      "        0, 0, 0, 0, 0, 1, 0, 0, 0, 0, 0, 0, 0, 0, 1, 0, 0, 0, 1, 1, 0, 1, 0, 0,\n",
      "        0, 0, 1, 0, 1, 1, 0, 0, 1, 1, 1, 0, 0, 1, 1, 1, 1, 0, 0, 1, 0, 1, 1, 1,\n",
      "        0, 1, 0, 1, 0, 0, 1, 0, 0, 0, 0, 0, 0, 1, 0, 1, 0, 1, 1, 1, 1, 0, 0, 0,\n",
      "        1, 0, 0])\n"
     ]
    }
   ],
   "source": [
    "print(predict)"
   ]
  },
  {
   "cell_type": "markdown",
   "metadata": {
    "id": "a4mpRpocePLN"
   },
   "source": [
    "# 4 - Evaluation\n"
   ]
  },
  {
   "cell_type": "markdown",
   "metadata": {
    "id": "lbLBzHObsvvM"
   },
   "source": [
    "## 4.1. Word Embedding Evaluation"
   ]
  },
  {
   "cell_type": "code",
   "execution_count": 71,
   "metadata": {
    "id": "rWBu--C-6I-b"
   },
   "outputs": [],
   "source": [
    "my_model.wv.save_word2vec_format('myModel.txt', binary=False)\n",
    "vectors_file=\"/content/myModel.txt\""
   ]
  },
  {
   "cell_type": "code",
   "execution_count": 72,
   "metadata": {
    "colab": {
     "base_uri": "https://localhost:8080/"
    },
    "id": "o6mz8BwFqsW4",
    "outputId": "bd057c92-66d9-418c-da0f-347cc9f1e619"
   },
   "outputs": [
    {
     "name": "stdout",
     "output_type": "stream",
     "text": [
      "Vocab size:  28527\n"
     ]
    }
   ],
   "source": [
    "with open(vectors_file, 'r') as f:\n",
    "  vectors = {}\n",
    "  for line in f.readlines()[1:]: # we only need the embedding vectors starting from the second line \n",
    "    vals = line.rstrip().split(' ')\n",
    "    vectors[vals[0]] = [float(x) for x in vals[1:]]\n",
    "\n",
    "    \n",
    "vocab_words=list(vectors.keys())\n",
    "vocab_size = len(vocab_words)\n",
    "print(\"Vocab size: \",str(vocab_size))\n",
    "\n",
    "# create word->index and index->word converter\n",
    "vocab = {w: idx for idx, w in enumerate(vocab_words)}\n",
    "ivocab = {idx: w for idx, w in enumerate(vocab_words)}"
   ]
  },
  {
   "cell_type": "code",
   "execution_count": 73,
   "metadata": {
    "id": "I3oVtWXls5kr"
   },
   "outputs": [],
   "source": [
    "# create the embedding matrix of shape (vocab_size, dim)\n",
    "vector_dim = len(vectors[ivocab[0]])\n",
    "W = np.zeros((vocab_size, vector_dim))\n",
    "for word, v in vectors.items():\n",
    "    if word == '<unk>':\n",
    "        continue\n",
    "    W[vocab[word], :] = v\n",
    "\n",
    "# normalize each word vector to unit length\n",
    "# Vectors are usually normalized to unit length before they are used for similarity calculation, making cosine similarity and dot-product equivalent.\n",
    "W_norm = np.zeros(W.shape)\n",
    "d = (np.sum(W ** 2, 1) ** (0.5))\n",
    "W_norm = (W.T / d).T"
   ]
  },
  {
   "cell_type": "code",
   "execution_count": 47,
   "metadata": {
    "colab": {
     "base_uri": "https://localhost:8080/"
    },
    "id": "tCrcXwcGsuuo",
    "outputId": "9ae39e31-f0fd-4176-ac4c-47beff45819a"
   },
   "outputs": [
    {
     "name": "stdout",
     "output_type": "stream",
     "text": [
      "fatal: destination path 'GloVe' already exists and is not an empty directory.\n"
     ]
    }
   ],
   "source": [
    "!git clone https://github.com/stanfordnlp/GloVe.git"
   ]
  },
  {
   "cell_type": "code",
   "execution_count": 61,
   "metadata": {
    "id": "mZWuej5My9q9"
   },
   "outputs": [],
   "source": [
    "def evaluate_vectors(W, vocab, prefix='./eval/question-data/'):\n",
    "    \"\"\"Evaluate the trained word vectors on a variety of tasks\"\"\"\n",
    "\n",
    "    filenames = [\n",
    "        'capital-common-countries.txt', 'capital-world.txt', 'currency.txt',\n",
    "        'city-in-state.txt', 'family.txt', 'gram1-adjective-to-adverb.txt',\n",
    "        'gram2-opposite.txt', 'gram3-comparative.txt', 'gram4-superlative.txt',\n",
    "        'gram5-present-participle.txt', 'gram6-nationality-adjective.txt',\n",
    "        'gram7-past-tense.txt', 'gram8-plural.txt', 'gram9-plural-verbs.txt',\n",
    "        ]\n",
    "\n",
    "    # to avoid memory overflow, could be increased/decreased\n",
    "    # depending on system and vocab size\n",
    "    split_size = 100\n",
    "\n",
    "    correct_sem = 0; # count correct semantic questions\n",
    "    correct_syn = 0; # count correct syntactic questions\n",
    "    correct_tot = 0 # count correct questions\n",
    "    count_sem = 0; # count all semantic questions\n",
    "    count_syn = 0; # count all syntactic questions\n",
    "    count_tot = 0 # count all questions\n",
    "    full_count = 0 # count all questions, including those with unknown words\n",
    "\n",
    "    for i in range(len(filenames)):\n",
    "        with open('%s/%s' % (prefix, filenames[i]), 'r') as f:\n",
    "            full_data = [line.rstrip().split(' ') for line in f]\n",
    "            full_count += len(full_data)\n",
    "            data = [x for x in full_data if all(word in vocab for word in x)]\n",
    "\n",
    "        if len(data) == 0:\n",
    "            # print(\"ERROR: no lines of vocab kept for %s !\" % filenames[i])\n",
    "            # print(\"Example missing line:\", full_data[0])\n",
    "            continue\n",
    "\n",
    "        indices = np.array([[vocab[word] for word in row] for row in data])\n",
    "        ind1, ind2, ind3, ind4 = indices.T\n",
    "\n",
    "        predictions = np.zeros((len(indices),))\n",
    "        num_iter = int(np.ceil(len(indices) / float(split_size)))\n",
    "        for j in range(num_iter):\n",
    "            subset = np.arange(j*split_size, min((j + 1)*split_size, len(ind1)))\n",
    "\n",
    "            pred_vec = (W[ind2[subset], :] - W[ind1[subset], :]\n",
    "                +  W[ind3[subset], :])\n",
    "\n",
    "            #cosine similarity if input W has been normalized\n",
    "            dist = np.dot(W, pred_vec.T)\n",
    "\n",
    "\n",
    "            for k in range(len(subset)):\n",
    "                dist[ind1[subset[k]], k] = -np.Inf\n",
    "                dist[ind2[subset[k]], k] = -np.Inf\n",
    "                dist[ind3[subset[k]], k] = -np.Inf\n",
    "\n",
    "            # predicted word index\n",
    "            predictions[subset] = np.argmax(dist, 0).flatten()\n",
    "\n",
    "        \n",
    "        val = (ind4 == predictions) # correct predictions\n",
    "        count_tot = count_tot + len(ind1)\n",
    "        correct_tot = correct_tot + sum(val)\n",
    "        if i < 5:\n",
    "            count_sem = count_sem + len(ind1)\n",
    "            correct_sem = correct_sem + sum(val)\n",
    "        else:\n",
    "            count_syn = count_syn + len(ind1)\n",
    "            correct_syn = correct_syn + sum(val)\n",
    "\n",
    "        # print(\"%s:\" % filenames[i])\n",
    "        # print('ACCURACY TOP1: %.2f%% (%d/%d)' %\n",
    "        #     (np.mean(val) * 100, np.sum(val), len(val)))\n",
    "        \n",
    "    return correct_sem, correct_syn, correct_tot, count_sem, count_syn, count_tot, full_count\n",
    "\n",
    "    "
   ]
  },
  {
   "cell_type": "code",
   "execution_count": 74,
   "metadata": {
    "colab": {
     "base_uri": "https://localhost:8080/"
    },
    "id": "GshuoUr6zbpd",
    "outputId": "3568968f-1194-4ac3-d9a9-9a5d783fe460"
   },
   "outputs": [
    {
     "name": "stdout",
     "output_type": "stream",
     "text": [
      "Questions seen/total: 12.13% (2370/19544)\n",
      "Semantic accuracy: 20.00%  (65/325)\n",
      "Syntactic accuracy: 12.76%  (261/2045)\n",
      "Total accuracy: 13.76%  (326/2370)\n"
     ]
    }
   ],
   "source": [
    "correct_sem, correct_syn, correct_tot, count_sem, count_syn, count_tot, full_count = evaluate_vectors(W_norm, vocab, prefix='/content/GloVe/eval/question-data')\n",
    "print('Questions seen/total: %.2f%% (%d/%d)' %\n",
    "    (100 * count_tot / float(full_count), count_tot, full_count))\n",
    "print('Semantic accuracy: %.2f%%  (%i/%i)' %\n",
    "    (100 * correct_sem / float(count_sem), correct_sem, count_sem))\n",
    "print('Syntactic accuracy: %.2f%%  (%i/%i)' %\n",
    "    (100 * correct_syn / float(count_syn), correct_syn, count_syn))\n",
    "print('Total accuracy: %.2f%%  (%i/%i)' % (100 * correct_tot / float(count_tot), correct_tot, count_tot))"
   ]
  },
  {
   "cell_type": "markdown",
   "metadata": {
    "id": "da6Fp5eDTu-p"
   },
   "source": [
    "The following result compares the Word2Vec model in different dimensions and window sizes. It can be seen the highest total accuracy is obtained by dim = 200 and window size = 5. There is a trend when window size increase from 5 to 7, the total accuracy always decreases. Also, in term of syntatic accuracy, when dimension increases, it will increases accordingly. The reason for them is likely to be the high dimension can represent more feature of words so when dimension is under 200, some of the features are not represented completely and then the total performance will not so good."
   ]
  },
  {
   "cell_type": "code",
   "execution_count": 75,
   "metadata": {
    "colab": {
     "base_uri": "https://localhost:8080/",
     "height": 283
    },
    "id": "K5Yklb7GgEf-",
    "outputId": "73172c02-50ab-470f-d25d-e8a02af50e7a"
   },
   "outputs": [
    {
     "data": {
      "text/plain": [
       "<matplotlib.legend.Legend at 0x7f9293a03b10>"
      ]
     },
     "execution_count": 75,
     "metadata": {},
     "output_type": "execute_result"
    },
    {
     "data": {
      "image/png": "[encoded data removed]",
      "text/plain": [
       "<Figure size 936x288 with 2 Axes>"
      ]
     },
     "metadata": {
      "needs_background": "light"
     },
     "output_type": "display_data"
    }
   ],
   "source": [
    "import matplotlib.pyplot as plt\n",
    "x_dim = [50,100,200]\n",
    "y_dim_tol = [11.77, 14.26, 14.56]\n",
    "y_dim_sem = [19.69, 20.00, 20.00]\n",
    "y_dim_syn = [10.51, 13.35, 13.69]\n",
    "y_dim = [y_dim_tol, y_dim_sem, y_dim_syn]\n",
    "\n",
    "x_window_size = [5,7]\n",
    "y_window_size_tol = [14.56, 13.76]\n",
    "y_window_size_sem = [20, 20]\n",
    "y_window_size_syn = [13.69, 12.76]\n",
    "\n",
    "plt.figure(figsize=(13,4))\n",
    "plt.subplot(1,2,1)\n",
    "plt.plot(x_dim, y_dim_tol, 's',ls='-',c='orange',markerfacecolor='none',label='Total')\n",
    "plt.plot(x_dim, y_dim_sem, '^',ls='-',c='g',markerfacecolor='none',label='Semantic')\n",
    "plt.plot(x_dim, y_dim_syn, 'o',ls='-',c='purple',markerfacecolor='none',label='Syntactic')\n",
    "plt.legend()\n",
    "\n",
    "plt.subplot(1,2,2)\n",
    "plt.plot(x_window_size, y_window_size_tol, 's',ls='-',c='orange',markerfacecolor='none',label='Total')\n",
    "plt.plot(x_window_size, y_window_size_sem, '^',ls='-',c='g',markerfacecolor='none',label='Semantic')\n",
    "plt.plot(x_window_size, y_window_size_syn, 'o',ls='-',c='purple',markerfacecolor='none',label='Syntactic')\n",
    "plt.legend()"
   ]
  },
  {
   "cell_type": "markdown",
   "metadata": {
    "id": "YbMsDDX4tiOv"
   },
   "source": [
    "<table>\n",
    "<tr>\n",
    "<th>Dimension</th>\n",
    "<th>Window size</th>\n",
    "<th>Semantic accuracy</th>\n",
    "<th>Syntactic accuracy</th>\n",
    "<th>Total accuracy</th>\n",
    "</tr>\n",
    "<tr>\n",
    "<td>50</td>\n",
    "<td>5</td>\n",
    "<td>19.69%</td>\n",
    "<td>10.51%</td>\n",
    "<td>11.77%</td>\n",
    "</tr>\n",
    "<tr>\n",
    "<td>50</td>\n",
    "<td>7</td>\n",
    "<td>20.00%</td>\n",
    "<td>9.98%</td>\n",
    "<td>11.35%</td>\n",
    "</tr>\n",
    "<tr>\n",
    "<td>100</td>\n",
    "<td>5</td>\n",
    "<td>20.00%</td>\n",
    "<td>13.35%</td>\n",
    "<td>14.26%</td>\n",
    "</tr>\n",
    "<tr>\n",
    "<td>100</td>\n",
    "<td>7</td>\n",
    "<td>19.38%</td>\n",
    "<td>11.44%</td>\n",
    "<td>12.53%</td>\n",
    "</tr>\n",
    "<tr>\n",
    "<td>200</td>\n",
    "<td>5</td>\n",
    "<td>20.00%</td>\n",
    "<td>13.69%</td>\n",
    "<td>14.56%</td>\n",
    "</tr>\n",
    "<tr>\n",
    "<td>200</td>\n",
    "<td>7</td>\n",
    "<td>20.00%</td>\n",
    "<td>12.76%</td>\n",
    "<td>13.76%</td>\n",
    "</tr>\n",
    "</table>"
   ]
  },
  {
   "cell_type": "markdown",
   "metadata": {
    "id": "KEW1zMgVMREr"
   },
   "source": [
    "## 4.2. Performance Evaluation with Data Processing Techiques"
   ]
  },
  {
   "cell_type": "code",
   "execution_count": null,
   "metadata": {
    "id": "LPHCb-bneTI9"
   },
   "outputs": [],
   "source": [
    "from sklearn.metrics import f1_score\n",
    "predict = torch.argmax(model(torch.from_numpy(np.array(test_encoded))), -1)\n",
    "f1 = f1_score(label_encoded_testing, predict)\n",
    "print('F1 Score: %.5f' %(f1))"
   ]
  },
  {
   "cell_type": "markdown",
   "metadata": {
    "id": "IPs_iWSIVJpZ"
   },
   "source": [
    "Here is result of the classification model under different preprocessing techniques. The best model comes from the corpus removing urls and stopwords and stemming. The corpus without url is better than with url, I think that makes sense because url will have some irrelated words, so it may bring interferences when training our classification model. Also, some stopwords can be the interferences to our model as well. The core of a sentence should be verbs and nouns which are what the model should most concern with. So after removing that, the accuracy of the model get a very apparent increasement."
   ]
  },
  {
   "cell_type": "markdown",
   "metadata": {
    "id": "jSGMnuHUE5ms"
   },
   "source": [
    "<table>\n",
    "<tr>\n",
    "<th>preprocessing technique</th>\n",
    "<th>F1 Score</th>\n",
    "</tr>\n",
    "<tr>\n",
    "<td>with_url</td>\n",
    "<td>0.30052</td>\n",
    "</tr>\n",
    "<tr>\n",
    "<td>without_url</td>\n",
    "<td>0.41848</td>\n",
    "</tr>\n",
    "<tr>\n",
    "<td>without_url_stopwords_stemming</td>\n",
    "<td>0.76202</td>\n",
    "</tr>\n",
    "<tr>\n",
    "<td>without_url_removing_number_lemmatisation</td>\n",
    "<td>0.56849</td>\n",
    "</tr>\n",
    "</table>"
   ]
  },
  {
   "cell_type": "markdown",
   "metadata": {
    "id": "-gwVpllNoOiY"
   },
   "source": [
    "## 4.3. Performance Evaluation with Different Input\n",
    "\n",
    "\n",
    "You are required to evaluate with the testing dataset and provide the table with f1 of test set.\n",
    "Note that it will not be marked if you do not display it in the ipynb file.\n"
   ]
  },
  {
   "cell_type": "markdown",
   "metadata": {
    "id": "mWS3oonaoOiY"
   },
   "source": [
    "(*Please show your empirical evidence and justification*)"
   ]
  },
  {
   "cell_type": "code",
   "execution_count": 107,
   "metadata": {
    "colab": {
     "base_uri": "https://localhost:8080/"
    },
    "id": "FTqc1XdioOiZ",
    "outputId": "305f47f4-6cbd-4e61-dbc2-e396c9a22629"
   },
   "outputs": [
    {
     "name": "stdout",
     "output_type": "stream",
     "text": [
      "F1 Score: 0.51515\n"
     ]
    }
   ],
   "source": [
    "# Please comment your code\n",
    "from sklearn.metrics import f1_score\n",
    "predict = torch.argmax(model(torch.from_numpy(np.array(test_encoded))), -1)\n",
    "f1 = f1_score(label_encoded_testing, predict)\n",
    "print('F1 Score: %.5f' %(f1))"
   ]
  },
  {
   "cell_type": "markdown",
   "metadata": {
    "id": "mGbMVs0qW1z_"
   },
   "source": [
    "The following result shows the F1 score of our classification model under different inputs. It can be seen that single cbow with dim=200 and window size=7 have the highest F1 Score. It's a little bit different from what I thought, because the combination one should have more details of the words. But the single Word2Vec model always get better result than combination one, that may result from the pretrained Word2Vec model doesn't suit well for the corpus of training data."
   ]
  },
  {
   "cell_type": "markdown",
   "metadata": {
    "id": "zVR1qIrG7PEJ"
   },
   "source": [
    "<table>\n",
    "<tr>\n",
    "<th>input</th>\n",
    "<th>F1 Score</th>\n",
    "</tr>\n",
    "<tr>\n",
    "<td>single cbow dim=200,window_size=7</td>\n",
    "<td>0.81690</td>\n",
    "</tr>\n",
    "<tr>\n",
    "<td>single skip-gram dim=200,window_size=7</td>\n",
    "<td>0.79318</td>\n",
    "</tr>\n",
    "<tr>\n",
    "<td>single glove-twitter-100</td>\n",
    "<td>0.75318</td>\n",
    "</tr>\n",
    "<tr>\n",
    "<td>single glove-wiki-gigaword-100</td>\n",
    "<td>0.54570</td>\n",
    "</tr>\n",
    "<tr>\n",
    "<td>combination of cbow dim=200,window_size=7 and glove-twitter-100</td>\n",
    "<td>0.75094</td>\n",
    "</tr>\n",
    "<tr>\n",
    "<td>combination of skip-gram dim=200,window_size=7 and glove-wiki-gigaword-100</td>\n",
    "<td>0.51515</td>\n",
    "</tr>\n",
    "</table>"
   ]
  },
  {
   "cell_type": "markdown",
   "metadata": {
    "id": "vg08uf3hpyoF"
   },
   "source": [
    "## 4.4. Performance Evaluation with Different Sequence Models\n",
    "\n",
    "\n",
    "You are required to evaluate with the testing dataset and provide the table with f1 of test set.\n",
    "Note that it will not be marked if you do not display it in the ipynb file.\n"
   ]
  },
  {
   "cell_type": "markdown",
   "metadata": {
    "id": "1e_nVbdrpyoK"
   },
   "source": [
    "(*Please show your empirical evidence and justification*)"
   ]
  },
  {
   "cell_type": "code",
   "execution_count": 118,
   "metadata": {
    "colab": {
     "base_uri": "https://localhost:8080/"
    },
    "id": "7YEvlJTPnEqP",
    "outputId": "3a36a3f3-383e-4536-c5cf-c25fc6059708"
   },
   "outputs": [
    {
     "name": "stdout",
     "output_type": "stream",
     "text": [
      "F1 Score: 0.51762\n"
     ]
    }
   ],
   "source": [
    "from sklearn.metrics import f1_score\n",
    "predict = torch.argmax(model(torch.from_numpy(np.array(test_encoded))), -1)\n",
    "f1 = f1_score(label_encoded_testing, predict)\n",
    "print('F1 Score: %.5f' %(f1))"
   ]
  },
  {
   "cell_type": "markdown",
   "metadata": {
    "id": "RupSIEyLYVFO"
   },
   "source": [
    "The following shows the F1 Score under different Seq2Seq Model. It can be seen that Bi-LSTM have higher score here. It's much better than RNN. I think it may result from the stucture of the model itself. When the sentence goes so long, the Bi-RNN model cannot deal with it very well."
   ]
  },
  {
   "cell_type": "markdown",
   "metadata": {
    "id": "XM0CGdGSQrT4"
   },
   "source": [
    "<table>\n",
    "<tr>\n",
    "<th>Seq2Seq Model</th>\n",
    "<th>F1 Score</th>\n",
    "</tr>\n",
    "<tr>\n",
    "<td>Bi-RNN</td>\n",
    "<td>0.51762</td>\n",
    "</tr>\n",
    "<tr>\n",
    "<td>Bi-LSTM</td>\n",
    "<td>0.81690</td>\n",
    "</tr>\n",
    "</table>"
   ]
  },
  {
   "cell_type": "markdown",
   "metadata": {
    "id": "P28Z1k36MZuo"
   },
   "source": [
    "## 4.5. HyperParameter Testing"
   ]
  },
  {
   "cell_type": "code",
   "execution_count": 132,
   "metadata": {
    "colab": {
     "base_uri": "https://localhost:8080/"
    },
    "id": "wTLyQEeZMZ2f",
    "outputId": "b45b28ec-344a-499f-8ea9-0ffcb9b9395c"
   },
   "outputs": [
    {
     "name": "stdout",
     "output_type": "stream",
     "text": [
      "F1 Score: 0.73881\n"
     ]
    }
   ],
   "source": [
    "# Please comment your code\n",
    "from sklearn.metrics import f1_score\n",
    "predict = torch.argmax(model(torch.from_numpy(np.array(test_encoded))), -1)\n",
    "f1 = f1_score(label_encoded_testing, predict)\n",
    "print('F1 Score: %.5f' %(f1))"
   ]
  },
  {
   "cell_type": "code",
   "execution_count": 1,
   "metadata": {
    "colab": {
     "base_uri": "https://localhost:8080/",
     "height": 295
    },
    "id": "hkW-l7oeE8m4",
    "outputId": "084b270f-583d-449f-ec79-18f3ded7668f"
   },
   "outputs": [
    {
     "data": {
      "image/png": "[encoded data removed]",
      "text/plain": [
       "<Figure size 432x288 with 1 Axes>"
      ]
     },
     "metadata": {
      "needs_background": "light"
     },
     "output_type": "display_data"
    }
   ],
   "source": [
    "import matplotlib.pyplot as plt\n",
    "\n",
    "xAxis = [10,20,30,40,50,60,70,80,90,100]\n",
    "yAxis = [0.80100, 0.78175, 0.75789, 0.77653, 0.76675, 0.75533, 0.75662, 0.77525, 0.77567, 0.77567]\n",
    "plt.plot(xAxis,yAxis)\n",
    "plt.title('Result for hyperparameter testing')\n",
    "plt.xlabel('epoch')\n",
    "plt.ylabel('f1-score')\n",
    "plt.show()"
   ]
  },
  {
   "cell_type": "markdown",
   "metadata": {
    "id": "XXc7MVEueXP3"
   },
   "source": [
    "Here is the result of F1 Score with different epoch, it shows the best F1 Score appears when epoch = 10, and after 60, the f1 score starts to stable and keeps on around 0.775. The trend of the epoch number and f1 score would be, decrease first and obtain th lowest point at epoch=60, then increase to 0.775, after that, it starts to keep stable."
   ]
  },
  {
   "cell_type": "markdown",
   "metadata": {
    "id": "HgvAJTw6TCse"
   },
   "source": [
    "<table>\n",
    "<th>Epoch</th>\n",
    "<th>F1 Score</th>\n",
    "<tr>\n",
    "<td>10</td>\n",
    "<td>0.80100</td>\n",
    "</tr>\n",
    "<tr>\n",
    "<td>20</td>\n",
    "<td>0.78175</td>\n",
    "</tr>\n",
    "<tr>\n",
    "<td>30</td>\n",
    "<td>0.75789</td>\n",
    "</tr>\n",
    "<tr>\n",
    "<td>40</td>\n",
    "<td>0.77653</td>\n",
    "</tr>\n",
    "<tr>\n",
    "<td>50</td>\n",
    "<td>0.76675</td>\n",
    "</tr>\n",
    "<tr>\n",
    "<td>60</td>\n",
    "<td>0.75533</td>\n",
    "</tr>\n",
    "<tr>\n",
    "<td>70</td>\n",
    "<td>0.75662</td>\n",
    "</tr>\n",
    "<tr>\n",
    "<td>80</td>\n",
    "<td>0.77525</td>\n",
    "</tr>\n",
    "<tr>\n",
    "<td>90</td>\n",
    "<td>0.77567</td>\n",
    "</tr>\n",
    "<tr>\n",
    "<td>100</td>\n",
    "<td>0.77567</td>\n",
    "</tr>\n",
    "</table>"
   ]
  },
  {
   "cell_type": "markdown",
   "metadata": {
    "id": "dIfa2nm85H9I"
   },
   "source": [
    "#5 - Test your model via Colab Form Fields User Interface"
   ]
  },
  {
   "cell_type": "markdown",
   "metadata": {
    "id": "qrCqpwHD5RG1"
   },
   "source": [
    "You are required to design a user interface so that user can input a textual sentence via the colab form fields user interface to get the personality type classification result from your trained model. *You can just modify based on the following Colab Form Fields template*"
   ]
  },
  {
   "cell_type": "code",
   "execution_count": 55,
   "metadata": {
    "colab": {
     "base_uri": "https://localhost:8080/"
    },
    "id": "HO_aV5bz5-ry",
    "outputId": "4fba0a86-4549-410b-f196-df8be4a52ff4"
   },
   "outputs": [
    {
     "name": "stdout",
     "output_type": "stream",
     "text": [
      "Thinking\n"
     ]
    }
   ],
   "source": [
    "#@title Personality Type Prediction\n",
    "\n",
    "text = \"it sounds you don't like a feeling person\" #@param {type:\"string\"}\n",
    "try:\n",
    "  data_after_preprocessing = stemming(remove_stop_words(remove_punctuation(remove_contraction(remove_url([text])))))\n",
    "  data_encoded = encode_and_add_padding(data_after_preprocessing, seq_length, word_index)\n",
    "  # print(data_encoded)\n",
    "  my_predict = torch.argmax(the_saved_model(torch.from_numpy(np.array(data_encoded))), -1)[0].item()\n",
    "  if(my_predict == 1):\n",
    "    print('Thinking')\n",
    "  else:\n",
    "    print('Feeling')\n",
    "except:\n",
    "  print('error')"
   ]
  }
 ],
 "metadata": {
  "accelerator": "TPU",
  "colab": {
   "collapsed_sections": [],
   "machine_shape": "hm",
   "name": "ruyu0470_COMP5046_Ass1_2022",
   "provenance": []
  },
  "kernelspec": {
   "display_name": "Python 3 (ipykernel)",
   "language": "python",
   "name": "python3"
  },
  "language_info": {
   "codemirror_mode": {
    "name": "ipython",
    "version": 3
   },
   "file_extension": ".py",
   "mimetype": "text/x-python",
   "name": "python",
   "nbconvert_exporter": "python",
   "pygments_lexer": "ipython3",
   "version": "3.10.2"
  }
 },
 "nbformat": 4,
 "nbformat_minor": 4
}
